{
 "cells": [
  {
   "cell_type": "code",
   "execution_count": 26,
   "id": "sublime-grocery",
   "metadata": {},
   "outputs": [],
   "source": [
    "#import dependencies\n",
    "import pandas\n",
    "import numpy\n",
    "import hvplot.pandas\n",
    "import matplotlib.pyplot as plt\n",
    "\n",
    "#machine learning dependencies\n",
    "from sklearn.model_selection import train_test_split\n",
    "from sklearn.metrics import accuracy_score\n",
    "from sklearn.metrics import classification_report\n",
    "\n",
    "import tensorflow as tf\n",
    "\n",
    "from tensorflow.keras.models import Sequential\n",
    "from tensorflow.keras.layers import Dense\n",
    "\n",
    "from tensorflow.keras.utils import to_categorical\n",
    "from tensorflow.keras.layers import Dense\n",
    "from sklearn.preprocessing import StandardScaler, OneHotEncoder\n",
    "\n",
    "\n",
    "#connection to db\n",
    "from connect_sql_db import build_engine"
   ]
  },
  {
   "cell_type": "markdown",
   "id": "foreign-colors",
   "metadata": {},
   "source": [
    "# Polynomial Regression Model"
   ]
  },
  {
   "cell_type": "code",
   "execution_count": 2,
   "id": "loaded-davis",
   "metadata": {},
   "outputs": [],
   "source": [
    "#look into polynomial linear regression"
   ]
  },
  {
   "cell_type": "code",
   "execution_count": null,
   "id": "appointed-playing",
   "metadata": {},
   "outputs": [],
   "source": []
  },
  {
   "cell_type": "code",
   "execution_count": null,
   "id": "hollywood-croatia",
   "metadata": {},
   "outputs": [],
   "source": []
  },
  {
   "cell_type": "markdown",
   "id": "running-butler",
   "metadata": {},
   "source": [
    "# Neural Network Classifier "
   ]
  },
  {
   "cell_type": "code",
   "execution_count": 36,
   "id": "changed-marking",
   "metadata": {},
   "outputs": [],
   "source": [
    "engine = build_engine(database_name=\"database1\",host=\"35.225.193.21\")"
   ]
  },
  {
   "cell_type": "code",
   "execution_count": 37,
   "id": "dramatic-external",
   "metadata": {},
   "outputs": [],
   "source": [
    "cleaned_df = pandas.read_sql(\"select * from cleaned_table_2\",con=engine)"
   ]
  },
  {
   "cell_type": "code",
   "execution_count": 38,
   "id": "bearing-corrections",
   "metadata": {},
   "outputs": [],
   "source": [
    "cleaned_df[\"stars\"] = cleaned_df.stars.apply(lambda x: int(x))"
   ]
  },
  {
   "cell_type": "code",
   "execution_count": 39,
   "id": "interim-holder",
   "metadata": {},
   "outputs": [],
   "source": [
    "X = cleaned_df.drop(cleaned_df.dtypes[cleaned_df.dtypes == \"object\"].index.tolist(), axis = 1)"
   ]
  },
  {
   "cell_type": "code",
   "execution_count": 40,
   "id": "mechanical-yukon",
   "metadata": {},
   "outputs": [],
   "source": [
    "y = cleaned_df.stars\n",
    "X = X.drop(\"stars\", axis=1).values"
   ]
  },
  {
   "cell_type": "code",
   "execution_count": 41,
   "id": "chubby-hepatitis",
   "metadata": {},
   "outputs": [
    {
     "data": {
      "text/plain": [
       "4    2581\n",
       "3    2395\n",
       "2     431\n",
       "1      50\n",
       "5      43\n",
       "Name: stars, dtype: int64"
      ]
     },
     "execution_count": 41,
     "metadata": {},
     "output_type": "execute_result"
    }
   ],
   "source": [
    "y.value_counts()"
   ]
  },
  {
   "cell_type": "code",
   "execution_count": 42,
   "id": "narrow-convention",
   "metadata": {},
   "outputs": [],
   "source": [
    "X_train, X_test, y_train, y_test = train_test_split(\n",
    "    X,\n",
    "    y,\n",
    "    random_state = 1\n",
    ")"
   ]
  },
  {
   "cell_type": "code",
   "execution_count": 43,
   "id": "committed-miller",
   "metadata": {},
   "outputs": [],
   "source": [
    "X_scaler = StandardScaler()\n",
    "X_scaler.fit(X_train)\n",
    "\n",
    "X_train_scaled = X_scaler.transform(X_train)\n",
    "X_test_scaled = X_scaler.transform(X_test)\n",
    "\n",
    "enc = OneHotEncoder()\n",
    "enc.fit(y_train.values.reshape(-1, 1))\n",
    "encoded_y_train = enc.transform(y_train.values.reshape(-1, 1)).toarray()\n",
    "encoded_y_test = enc.transform(y_train.values.reshape(-1, 1)).toarray()"
   ]
  },
  {
   "cell_type": "code",
   "execution_count": 44,
   "id": "spread-principal",
   "metadata": {},
   "outputs": [],
   "source": [
    "model = Sequential()"
   ]
  },
  {
   "cell_type": "code",
   "execution_count": 45,
   "id": "brave-brunei",
   "metadata": {},
   "outputs": [],
   "source": [
    "model.add(Dense(100, activation='relu', input_dim=X_train_scaled.shape[1]))\n",
    "\n",
    "model.add(Dense(50, activation='relu'))\n",
    "\n",
    "model.add(Dense(10, activation='relu'))"
   ]
  },
  {
   "cell_type": "code",
   "execution_count": 46,
   "id": "touched-bouquet",
   "metadata": {},
   "outputs": [],
   "source": [
    "model.add(Dense(5, activation=\"softmax\"))"
   ]
  },
  {
   "cell_type": "code",
   "execution_count": 47,
   "id": "appreciated-coalition",
   "metadata": {},
   "outputs": [],
   "source": [
    "model.compile(optimizer=\"adam\", loss=\"categorical_crossentropy\", metrics=[\"accuracy\"])"
   ]
  },
  {
   "cell_type": "code",
   "execution_count": 48,
   "id": "southern-indonesian",
   "metadata": {},
   "outputs": [
    {
     "name": "stdout",
     "output_type": "stream",
     "text": [
      "Model: \"sequential_1\"\n",
      "_________________________________________________________________\n",
      "Layer (type)                 Output Shape              Param #   \n",
      "=================================================================\n",
      "dense_4 (Dense)              (None, 100)               5000      \n",
      "_________________________________________________________________\n",
      "dense_5 (Dense)              (None, 50)                5050      \n",
      "_________________________________________________________________\n",
      "dense_6 (Dense)              (None, 10)                510       \n",
      "_________________________________________________________________\n",
      "dense_7 (Dense)              (None, 5)                 55        \n",
      "=================================================================\n",
      "Total params: 10,615\n",
      "Trainable params: 10,615\n",
      "Non-trainable params: 0\n",
      "_________________________________________________________________\n"
     ]
    }
   ],
   "source": [
    "model.summary()"
   ]
  },
  {
   "cell_type": "code",
   "execution_count": 49,
   "id": "complete-senator",
   "metadata": {},
   "outputs": [
    {
     "name": "stdout",
     "output_type": "stream",
     "text": [
      "Epoch 1/100\n",
      "129/129 - 0s - loss: 1.0718 - accuracy: 0.5353\n",
      "Epoch 2/100\n",
      "129/129 - 0s - loss: 0.8954 - accuracy: 0.5901\n",
      "Epoch 3/100\n",
      "129/129 - 0s - loss: 0.8649 - accuracy: 0.6032\n",
      "Epoch 4/100\n",
      "129/129 - 0s - loss: 0.8441 - accuracy: 0.6250\n",
      "Epoch 5/100\n",
      "129/129 - 0s - loss: 0.8225 - accuracy: 0.6250\n",
      "Epoch 6/100\n",
      "129/129 - 0s - loss: 0.8062 - accuracy: 0.6356\n",
      "Epoch 7/100\n",
      "129/129 - 0s - loss: 0.7922 - accuracy: 0.6470\n",
      "Epoch 8/100\n",
      "129/129 - 0s - loss: 0.7754 - accuracy: 0.6519\n",
      "Epoch 9/100\n",
      "129/129 - 0s - loss: 0.7617 - accuracy: 0.6625\n",
      "Epoch 10/100\n",
      "129/129 - 0s - loss: 0.7453 - accuracy: 0.6737\n",
      "Epoch 11/100\n",
      "129/129 - 0s - loss: 0.7325 - accuracy: 0.6781\n",
      "Epoch 12/100\n",
      "129/129 - 0s - loss: 0.7171 - accuracy: 0.6875\n",
      "Epoch 13/100\n",
      "129/129 - 0s - loss: 0.7023 - accuracy: 0.6979\n",
      "Epoch 14/100\n",
      "129/129 - 0s - loss: 0.6922 - accuracy: 0.7045\n",
      "Epoch 15/100\n",
      "129/129 - 0s - loss: 0.6842 - accuracy: 0.7028\n",
      "Epoch 16/100\n",
      "129/129 - 0s - loss: 0.6649 - accuracy: 0.7227\n",
      "Epoch 17/100\n",
      "129/129 - 0s - loss: 0.6497 - accuracy: 0.7244\n",
      "Epoch 18/100\n",
      "129/129 - 0s - loss: 0.6368 - accuracy: 0.7312\n",
      "Epoch 19/100\n",
      "129/129 - 0s - loss: 0.6262 - accuracy: 0.7399\n",
      "Epoch 20/100\n",
      "129/129 - 0s - loss: 0.6137 - accuracy: 0.7515\n",
      "Epoch 21/100\n",
      "129/129 - 0s - loss: 0.6052 - accuracy: 0.7459\n",
      "Epoch 22/100\n",
      "129/129 - 0s - loss: 0.5948 - accuracy: 0.7496\n",
      "Epoch 23/100\n",
      "129/129 - 0s - loss: 0.5772 - accuracy: 0.7598\n",
      "Epoch 24/100\n",
      "129/129 - 0s - loss: 0.5656 - accuracy: 0.7644\n",
      "Epoch 25/100\n",
      "129/129 - 0s - loss: 0.5528 - accuracy: 0.7724\n",
      "Epoch 26/100\n",
      "129/129 - 0s - loss: 0.5462 - accuracy: 0.7758\n",
      "Epoch 27/100\n",
      "129/129 - 0s - loss: 0.5352 - accuracy: 0.7760\n",
      "Epoch 28/100\n",
      "129/129 - 0s - loss: 0.5254 - accuracy: 0.7845\n",
      "Epoch 29/100\n",
      "129/129 - 0s - loss: 0.5179 - accuracy: 0.7874\n",
      "Epoch 30/100\n",
      "129/129 - 0s - loss: 0.5034 - accuracy: 0.7952\n",
      "Epoch 31/100\n",
      "129/129 - 0s - loss: 0.4946 - accuracy: 0.8015\n",
      "Epoch 32/100\n",
      "129/129 - 0s - loss: 0.4850 - accuracy: 0.8015\n",
      "Epoch 33/100\n",
      "129/129 - 0s - loss: 0.4767 - accuracy: 0.8053\n",
      "Epoch 34/100\n",
      "129/129 - 0s - loss: 0.4681 - accuracy: 0.8065\n",
      "Epoch 35/100\n",
      "129/129 - 0s - loss: 0.4571 - accuracy: 0.8162\n",
      "Epoch 36/100\n",
      "129/129 - 0s - loss: 0.4456 - accuracy: 0.8158\n",
      "Epoch 37/100\n",
      "129/129 - 0s - loss: 0.4424 - accuracy: 0.8189\n",
      "Epoch 38/100\n",
      "129/129 - 0s - loss: 0.4353 - accuracy: 0.8284\n",
      "Epoch 39/100\n",
      "129/129 - 0s - loss: 0.4262 - accuracy: 0.8310\n",
      "Epoch 40/100\n",
      "129/129 - 0s - loss: 0.4225 - accuracy: 0.8313\n",
      "Epoch 41/100\n",
      "129/129 - 0s - loss: 0.4036 - accuracy: 0.8432\n",
      "Epoch 42/100\n",
      "129/129 - 0s - loss: 0.4131 - accuracy: 0.8385\n",
      "Epoch 43/100\n",
      "129/129 - 0s - loss: 0.3949 - accuracy: 0.8451\n",
      "Epoch 44/100\n",
      "129/129 - 0s - loss: 0.4084 - accuracy: 0.8439\n",
      "Epoch 45/100\n",
      "129/129 - 0s - loss: 0.3885 - accuracy: 0.8509\n",
      "Epoch 46/100\n",
      "129/129 - 0s - loss: 0.3814 - accuracy: 0.8507\n",
      "Epoch 47/100\n",
      "129/129 - 0s - loss: 0.3694 - accuracy: 0.8575\n",
      "Epoch 48/100\n",
      "129/129 - 0s - loss: 0.3699 - accuracy: 0.8548\n",
      "Epoch 49/100\n",
      "129/129 - 0s - loss: 0.3599 - accuracy: 0.8616\n",
      "Epoch 50/100\n",
      "129/129 - 0s - loss: 0.3505 - accuracy: 0.8659\n",
      "Epoch 51/100\n",
      "129/129 - 0s - loss: 0.3534 - accuracy: 0.8667\n",
      "Epoch 52/100\n",
      "129/129 - 0s - loss: 0.3500 - accuracy: 0.8618\n",
      "Epoch 53/100\n",
      "129/129 - 0s - loss: 0.3399 - accuracy: 0.8715\n",
      "Epoch 54/100\n",
      "129/129 - 0s - loss: 0.3424 - accuracy: 0.8701\n",
      "Epoch 55/100\n",
      "129/129 - 0s - loss: 0.3357 - accuracy: 0.8701\n",
      "Epoch 56/100\n",
      "129/129 - 0s - loss: 0.3261 - accuracy: 0.8766\n",
      "Epoch 57/100\n",
      "129/129 - 0s - loss: 0.3224 - accuracy: 0.8800\n",
      "Epoch 58/100\n",
      "129/129 - 0s - loss: 0.3287 - accuracy: 0.8730\n",
      "Epoch 59/100\n",
      "129/129 - 0s - loss: 0.3252 - accuracy: 0.8768\n",
      "Epoch 60/100\n",
      "129/129 - 0s - loss: 0.3214 - accuracy: 0.8768\n",
      "Epoch 61/100\n",
      "129/129 - 0s - loss: 0.3092 - accuracy: 0.8856\n",
      "Epoch 62/100\n",
      "129/129 - 0s - loss: 0.2980 - accuracy: 0.8899\n",
      "Epoch 63/100\n",
      "129/129 - 0s - loss: 0.2934 - accuracy: 0.8909\n",
      "Epoch 64/100\n",
      "129/129 - 0s - loss: 0.2966 - accuracy: 0.8861\n",
      "Epoch 65/100\n",
      "129/129 - 0s - loss: 0.3039 - accuracy: 0.8834\n",
      "Epoch 66/100\n",
      "129/129 - 0s - loss: 0.2780 - accuracy: 0.8958\n",
      "Epoch 67/100\n",
      "129/129 - 0s - loss: 0.2885 - accuracy: 0.8895\n",
      "Epoch 68/100\n",
      "129/129 - 0s - loss: 0.2864 - accuracy: 0.8887\n",
      "Epoch 69/100\n",
      "129/129 - 0s - loss: 0.2777 - accuracy: 0.8919\n",
      "Epoch 70/100\n",
      "129/129 - 0s - loss: 0.2832 - accuracy: 0.8921\n",
      "Epoch 71/100\n",
      "129/129 - 0s - loss: 0.2716 - accuracy: 0.8972\n",
      "Epoch 72/100\n",
      "129/129 - 0s - loss: 0.2778 - accuracy: 0.8953\n",
      "Epoch 73/100\n",
      "129/129 - 0s - loss: 0.2816 - accuracy: 0.8945\n",
      "Epoch 74/100\n",
      "129/129 - 0s - loss: 0.2508 - accuracy: 0.9040\n",
      "Epoch 75/100\n",
      "129/129 - 0s - loss: 0.2703 - accuracy: 0.8948\n",
      "Epoch 76/100\n",
      "129/129 - 0s - loss: 0.2579 - accuracy: 0.9045\n",
      "Epoch 77/100\n",
      "129/129 - 0s - loss: 0.2584 - accuracy: 0.9001\n",
      "Epoch 78/100\n",
      "129/129 - 0s - loss: 0.2475 - accuracy: 0.9059\n",
      "Epoch 79/100\n",
      "129/129 - 0s - loss: 0.2483 - accuracy: 0.9069\n",
      "Epoch 80/100\n",
      "129/129 - 0s - loss: 0.2516 - accuracy: 0.9055\n",
      "Epoch 81/100\n",
      "129/129 - 0s - loss: 0.2402 - accuracy: 0.9076\n",
      "Epoch 82/100\n",
      "129/129 - 0s - loss: 0.2569 - accuracy: 0.9021\n",
      "Epoch 83/100\n",
      "129/129 - 0s - loss: 0.2577 - accuracy: 0.8987\n",
      "Epoch 84/100\n",
      "129/129 - 0s - loss: 0.2646 - accuracy: 0.9069\n",
      "Epoch 85/100\n",
      "129/129 - 0s - loss: 0.2482 - accuracy: 0.9079\n",
      "Epoch 86/100\n",
      "129/129 - 0s - loss: 0.2448 - accuracy: 0.9110\n",
      "Epoch 87/100\n",
      "129/129 - 0s - loss: 0.2350 - accuracy: 0.9122\n",
      "Epoch 88/100\n",
      "129/129 - 0s - loss: 0.2229 - accuracy: 0.9159\n",
      "Epoch 89/100\n",
      "129/129 - 0s - loss: 0.2206 - accuracy: 0.9205\n",
      "Epoch 90/100\n",
      "129/129 - 0s - loss: 0.2212 - accuracy: 0.9193\n",
      "Epoch 91/100\n",
      "129/129 - 0s - loss: 0.2224 - accuracy: 0.9168\n",
      "Epoch 92/100\n",
      "129/129 - 0s - loss: 0.2287 - accuracy: 0.9098\n",
      "Epoch 93/100\n",
      "129/129 - 0s - loss: 0.2291 - accuracy: 0.9137\n",
      "Epoch 94/100\n",
      "129/129 - 0s - loss: 0.2351 - accuracy: 0.9147\n",
      "Epoch 95/100\n",
      "129/129 - 0s - loss: 0.2330 - accuracy: 0.9130\n",
      "Epoch 96/100\n",
      "129/129 - 0s - loss: 0.2206 - accuracy: 0.9166\n",
      "Epoch 97/100\n",
      "129/129 - 0s - loss: 0.2079 - accuracy: 0.9232\n",
      "Epoch 98/100\n",
      "129/129 - 0s - loss: 0.2126 - accuracy: 0.9207\n",
      "Epoch 99/100\n",
      "129/129 - 0s - loss: 0.2146 - accuracy: 0.9200\n",
      "Epoch 100/100\n",
      "129/129 - 0s - loss: 0.2195 - accuracy: 0.9173\n"
     ]
    }
   ],
   "source": [
    "fit_model = model.fit(\n",
    "    X_train_scaled,\n",
    "    encoded_y_train,\n",
    "    epochs=100,\n",
    "    shuffle=True,\n",
    "    verbose=2\n",
    ")"
   ]
  },
  {
   "cell_type": "code",
   "execution_count": 50,
   "id": "offensive-motel",
   "metadata": {},
   "outputs": [
    {
     "data": {
      "text/html": [
       "<div>\n",
       "<style scoped>\n",
       "    .dataframe tbody tr th:only-of-type {\n",
       "        vertical-align: middle;\n",
       "    }\n",
       "\n",
       "    .dataframe tbody tr th {\n",
       "        vertical-align: top;\n",
       "    }\n",
       "\n",
       "    .dataframe thead th {\n",
       "        text-align: right;\n",
       "    }\n",
       "</style>\n",
       "<table border=\"1\" class=\"dataframe\">\n",
       "  <thead>\n",
       "    <tr style=\"text-align: right;\">\n",
       "      <th></th>\n",
       "      <th>Actual</th>\n",
       "      <th>Predicted</th>\n",
       "    </tr>\n",
       "  </thead>\n",
       "  <tbody>\n",
       "    <tr>\n",
       "      <th>4410</th>\n",
       "      <td>4</td>\n",
       "      <td>4</td>\n",
       "    </tr>\n",
       "    <tr>\n",
       "      <th>2256</th>\n",
       "      <td>3</td>\n",
       "      <td>3</td>\n",
       "    </tr>\n",
       "    <tr>\n",
       "      <th>3684</th>\n",
       "      <td>4</td>\n",
       "      <td>4</td>\n",
       "    </tr>\n",
       "    <tr>\n",
       "      <th>4706</th>\n",
       "      <td>4</td>\n",
       "      <td>4</td>\n",
       "    </tr>\n",
       "    <tr>\n",
       "      <th>5429</th>\n",
       "      <td>4</td>\n",
       "      <td>4</td>\n",
       "    </tr>\n",
       "    <tr>\n",
       "      <th>1825</th>\n",
       "      <td>4</td>\n",
       "      <td>3</td>\n",
       "    </tr>\n",
       "    <tr>\n",
       "      <th>3408</th>\n",
       "      <td>3</td>\n",
       "      <td>3</td>\n",
       "    </tr>\n",
       "    <tr>\n",
       "      <th>4306</th>\n",
       "      <td>2</td>\n",
       "      <td>2</td>\n",
       "    </tr>\n",
       "    <tr>\n",
       "      <th>386</th>\n",
       "      <td>3</td>\n",
       "      <td>4</td>\n",
       "    </tr>\n",
       "    <tr>\n",
       "      <th>1751</th>\n",
       "      <td>4</td>\n",
       "      <td>2</td>\n",
       "    </tr>\n",
       "  </tbody>\n",
       "</table>\n",
       "</div>"
      ],
      "text/plain": [
       "      Actual  Predicted\n",
       "4410       4          4\n",
       "2256       3          3\n",
       "3684       4          4\n",
       "4706       4          4\n",
       "5429       4          4\n",
       "1825       4          3\n",
       "3408       3          3\n",
       "4306       2          2\n",
       "386        3          4\n",
       "1751       4          2"
      ]
     },
     "execution_count": 50,
     "metadata": {},
     "output_type": "execute_result"
    }
   ],
   "source": [
    "# Make predictions\n",
    "predicted = model.predict(X_test_scaled)\n",
    "predicted = enc.inverse_transform(predicted).flatten().tolist()\n",
    "results = pandas.DataFrame({\n",
    "    \"Actual\": y_test,\n",
    "    \"Predicted\": predicted\n",
    "})\n",
    "results.head(10)"
   ]
  },
  {
   "cell_type": "code",
   "execution_count": 51,
   "id": "solid-queue",
   "metadata": {},
   "outputs": [
    {
     "name": "stdout",
     "output_type": "stream",
     "text": [
      "              precision    recall  f1-score   support\n",
      "\n",
      "           1       0.30      0.20      0.24        15\n",
      "           2       0.27      0.28      0.28        94\n",
      "           3       0.55      0.57      0.56       612\n",
      "           4       0.59      0.58      0.58       645\n",
      "           5       0.00      0.00      0.00         9\n",
      "\n",
      "    accuracy                           0.54      1375\n",
      "   macro avg       0.34      0.32      0.33      1375\n",
      "weighted avg       0.54      0.54      0.54      1375\n",
      "\n"
     ]
    }
   ],
   "source": [
    "print(classification_report(results.Actual, results.Predicted))"
   ]
  },
  {
   "cell_type": "code",
   "execution_count": 52,
   "id": "quick-black",
   "metadata": {},
   "outputs": [
    {
     "data": {
      "text/plain": [
       "<AxesSubplot:>"
      ]
     },
     "execution_count": 52,
     "metadata": {},
     "output_type": "execute_result"
    },
    {
     "data": {
      "image/png": "[encoded data removed]",
      "text/plain": [
       "<Figure size 432x288 with 1 Axes>"
      ]
     },
     "metadata": {
      "needs_background": "light"
     },
     "output_type": "display_data"
    }
   ],
   "source": [
    "#testing\n",
    "result_df = pandas.DataFrame(\n",
    "    fit_model.history,\n",
    "    index = range(1, len(fit_model.history[\"loss\"]) + 1)\n",
    ")\n",
    "\n",
    "result_df.plot(y=\"loss\")"
   ]
  },
  {
   "cell_type": "code",
   "execution_count": 53,
   "id": "clear-compromise",
   "metadata": {},
   "outputs": [
    {
     "data": {
      "text/plain": [
       "<AxesSubplot:>"
      ]
     },
     "execution_count": 53,
     "metadata": {},
     "output_type": "execute_result"
    },
    {
     "data": {
      "image/png": "[encoded data removed]",
      "text/plain": [
       "<Figure size 432x288 with 1 Axes>"
      ]
     },
     "metadata": {
      "needs_background": "light"
     },
     "output_type": "display_data"
    }
   ],
   "source": [
    "#testing\n",
    "result_df = pandas.DataFrame(\n",
    "    fit_model.history,\n",
    "    index = range(1, len(fit_model.history[\"accuracy\"]) + 1)\n",
    ")\n",
    "\n",
    "result_df.plot(y=\"accuracy\")"
   ]
  },
  {
   "cell_type": "code",
   "execution_count": null,
   "id": "quick-brown",
   "metadata": {},
   "outputs": [],
   "source": []
  }
 ],
 "metadata": {
  "kernelspec": {
   "display_name": "mlenv",
   "language": "python",
   "name": "mlenv"
  },
  "language_info": {
   "codemirror_mode": {
    "name": "ipython",
    "version": 3
   },
   "file_extension": ".py",
   "mimetype": "text/x-python",
   "name": "python",
   "nbconvert_exporter": "python",
   "pygments_lexer": "ipython3",
   "version": "3.7.9"
  }
 },
 "nbformat": 4,
 "nbformat_minor": 5
}
