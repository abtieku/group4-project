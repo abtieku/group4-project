{
 "cells": [
  {
   "cell_type": "code",
   "execution_count": 65,
   "id": "sublime-grocery",
   "metadata": {},
   "outputs": [],
   "source": [
    "#import dependencies\n",
    "import pandas\n",
    "import numpy\n",
    "import hvplot.pandas\n",
    "import matplotlib.pyplot as plt\n",
    "\n",
    "#machine learning dependencies\n",
    "from sklearn.model_selection import train_test_split\n",
    "from sklearn.metrics import accuracy_score\n",
    "from sklearn.metrics import classification_report\n",
    "\n",
    "import tensorflow as tf\n",
    "\n",
    "from tensorflow.keras.models import Sequential\n",
    "from tensorflow.keras.layers import Dense\n",
    "\n",
    "from tensorflow.keras.utils import to_categorical\n",
    "from tensorflow.keras.layers import Dense\n",
    "from sklearn.preprocessing import StandardScaler, OneHotEncoder\n",
    "\n",
    "\n",
    "#connection to db\n",
    "from connect_sql_db import build_engine"
   ]
  },
  {
   "cell_type": "markdown",
   "id": "foreign-colors",
   "metadata": {},
   "source": [
    "# Polynomial Regression Model"
   ]
  },
  {
   "cell_type": "code",
   "execution_count": 66,
   "id": "loaded-davis",
   "metadata": {},
   "outputs": [],
   "source": [
    "#look into polynomial linear regression\n"
   ]
  },
  {
   "cell_type": "code",
   "execution_count": null,
   "id": "appointed-playing",
   "metadata": {},
   "outputs": [],
   "source": []
  },
  {
   "cell_type": "code",
   "execution_count": null,
   "id": "hollywood-croatia",
   "metadata": {},
   "outputs": [],
   "source": []
  },
  {
   "cell_type": "markdown",
   "id": "running-butler",
   "metadata": {},
   "source": [
    "# Neural Network Classifier "
   ]
  },
  {
   "cell_type": "code",
   "execution_count": 67,
   "id": "changed-marking",
   "metadata": {},
   "outputs": [],
   "source": [
    "engine = build_engine(database_name=\"database1\",host=\"35.225.193.21\")"
   ]
  },
  {
   "cell_type": "code",
   "execution_count": 68,
   "id": "dramatic-external",
   "metadata": {},
   "outputs": [],
   "source": [
    "cleaned_df = pandas.read_sql(\"select * from cleaned_table\",con=engine)"
   ]
  },
  {
   "cell_type": "code",
   "execution_count": 69,
   "id": "bearing-corrections",
   "metadata": {},
   "outputs": [],
   "source": [
    "cleaned_df[\"stars\"] = cleaned_df.stars.apply(lambda x: int(x))"
   ]
  },
  {
   "cell_type": "code",
   "execution_count": 70,
   "id": "interim-holder",
   "metadata": {},
   "outputs": [],
   "source": [
    "X = cleaned_df.drop(cleaned_df.dtypes[cleaned_df.dtypes == \"object\"].index.tolist(), axis = 1)"
   ]
  },
  {
   "cell_type": "code",
   "execution_count": 71,
   "id": "mechanical-yukon",
   "metadata": {},
   "outputs": [],
   "source": [
    "y = cleaned_df.stars\n",
    "X = X.drop(\"stars\", axis=1).values"
   ]
  },
  {
   "cell_type": "code",
   "execution_count": 72,
   "id": "chubby-hepatitis",
   "metadata": {},
   "outputs": [
    {
     "data": {
      "text/plain": [
       "4    1972\n",
       "3    1711\n",
       "2     351\n",
       "1      46\n",
       "5      38\n",
       "Name: stars, dtype: int64"
      ]
     },
     "execution_count": 72,
     "metadata": {},
     "output_type": "execute_result"
    }
   ],
   "source": [
    "y.value_counts()"
   ]
  },
  {
   "cell_type": "code",
   "execution_count": 73,
   "id": "narrow-convention",
   "metadata": {},
   "outputs": [],
   "source": [
    "X_train, X_test, y_train, y_test = train_test_split(\n",
    "    X,\n",
    "    y,\n",
    "    random_state = 1\n",
    ")"
   ]
  },
  {
   "cell_type": "code",
   "execution_count": 74,
   "id": "committed-miller",
   "metadata": {},
   "outputs": [],
   "source": [
    "X_scaler = StandardScaler()\n",
    "X_scaler.fit(X_train)\n",
    "\n",
    "X_train_scaled = X_scaler.transform(X_train)\n",
    "X_test_scaled = X_scaler.transform(X_test)\n",
    "\n",
    "enc = OneHotEncoder()\n",
    "enc.fit(y_train.values.reshape(-1, 1))\n",
    "encoded_y_train = enc.transform(y_train.values.reshape(-1, 1)).toarray()\n",
    "encoded_y_test = enc.transform(y_train.values.reshape(-1, 1)).toarray()"
   ]
  },
  {
   "cell_type": "code",
   "execution_count": 75,
   "id": "spread-principal",
   "metadata": {},
   "outputs": [],
   "source": [
    "model = Sequential()"
   ]
  },
  {
   "cell_type": "code",
   "execution_count": 76,
   "id": "brave-brunei",
   "metadata": {},
   "outputs": [],
   "source": [
    "model.add(Dense(100, activation='relu', input_dim=X_train.shape[1]))\n",
    "\n",
    "model.add(Dense(50, activation='relu'))\n",
    "\n",
    "model.add(Dense(10, activation='relu'))"
   ]
  },
  {
   "cell_type": "code",
   "execution_count": 77,
   "id": "touched-bouquet",
   "metadata": {},
   "outputs": [],
   "source": [
    "model.add(Dense(5, activation=\"softmax\"))"
   ]
  },
  {
   "cell_type": "code",
   "execution_count": 78,
   "id": "appreciated-coalition",
   "metadata": {},
   "outputs": [],
   "source": [
    "model.compile(optimizer=\"adam\", loss=\"categorical_crossentropy\", metrics=[\"accuracy\"])"
   ]
  },
  {
   "cell_type": "code",
   "execution_count": 79,
   "id": "southern-indonesian",
   "metadata": {},
   "outputs": [
    {
     "name": "stdout",
     "output_type": "stream",
     "text": [
      "Model: \"sequential_2\"\n",
      "_________________________________________________________________\n",
      "Layer (type)                 Output Shape              Param #   \n",
      "=================================================================\n",
      "dense_8 (Dense)              (None, 100)               19300     \n",
      "_________________________________________________________________\n",
      "dense_9 (Dense)              (None, 50)                5050      \n",
      "_________________________________________________________________\n",
      "dense_10 (Dense)             (None, 10)                510       \n",
      "_________________________________________________________________\n",
      "dense_11 (Dense)             (None, 5)                 55        \n",
      "=================================================================\n",
      "Total params: 24,915\n",
      "Trainable params: 24,915\n",
      "Non-trainable params: 0\n",
      "_________________________________________________________________\n"
     ]
    }
   ],
   "source": [
    "model.summary()"
   ]
  },
  {
   "cell_type": "code",
   "execution_count": 80,
   "id": "complete-senator",
   "metadata": {},
   "outputs": [
    {
     "name": "stdout",
     "output_type": "stream",
     "text": [
      "Epoch 1/100\n",
      "97/97 - 0s - loss: 1.5337 - accuracy: 0.4770\n",
      "Epoch 2/100\n",
      "97/97 - 0s - loss: 0.9825 - accuracy: 0.5301\n",
      "Epoch 3/100\n",
      "97/97 - 0s - loss: 0.9770 - accuracy: 0.5418\n",
      "Epoch 4/100\n",
      "97/97 - 0s - loss: 0.9620 - accuracy: 0.5644\n",
      "Epoch 5/100\n",
      "97/97 - 0s - loss: 0.9293 - accuracy: 0.5771\n",
      "Epoch 6/100\n",
      "97/97 - 0s - loss: 0.8949 - accuracy: 0.6108\n",
      "Epoch 7/100\n",
      "97/97 - 0s - loss: 0.8832 - accuracy: 0.6091\n",
      "Epoch 8/100\n",
      "97/97 - 0s - loss: 0.8893 - accuracy: 0.6040\n",
      "Epoch 9/100\n",
      "97/97 - 0s - loss: 0.8659 - accuracy: 0.6185\n",
      "Epoch 10/100\n",
      "97/97 - 0s - loss: 0.8458 - accuracy: 0.6156\n",
      "Epoch 11/100\n",
      "97/97 - 0s - loss: 0.8664 - accuracy: 0.6169\n",
      "Epoch 12/100\n",
      "97/97 - 0s - loss: 0.8731 - accuracy: 0.6052\n",
      "Epoch 13/100\n",
      "97/97 - 0s - loss: 0.8324 - accuracy: 0.6289\n",
      "Epoch 14/100\n",
      "97/97 - 0s - loss: 0.8126 - accuracy: 0.6418\n",
      "Epoch 15/100\n",
      "97/97 - 0s - loss: 0.8179 - accuracy: 0.6396\n",
      "Epoch 16/100\n",
      "97/97 - 0s - loss: 0.8169 - accuracy: 0.6396\n",
      "Epoch 17/100\n",
      "97/97 - 0s - loss: 0.8239 - accuracy: 0.6392\n",
      "Epoch 18/100\n",
      "97/97 - 0s - loss: 0.7952 - accuracy: 0.6480\n",
      "Epoch 19/100\n",
      "97/97 - 0s - loss: 0.7978 - accuracy: 0.6464\n",
      "Epoch 20/100\n",
      "97/97 - 0s - loss: 0.7965 - accuracy: 0.6467\n",
      "Epoch 21/100\n",
      "97/97 - 0s - loss: 0.7838 - accuracy: 0.6609\n",
      "Epoch 22/100\n",
      "97/97 - 0s - loss: 0.8055 - accuracy: 0.6483\n",
      "Epoch 23/100\n",
      "97/97 - 0s - loss: 0.7970 - accuracy: 0.6532\n",
      "Epoch 24/100\n",
      "97/97 - 0s - loss: 0.7753 - accuracy: 0.6561\n",
      "Epoch 25/100\n",
      "97/97 - 0s - loss: 0.7941 - accuracy: 0.6493\n",
      "Epoch 26/100\n",
      "97/97 - 0s - loss: 0.7810 - accuracy: 0.6567\n",
      "Epoch 27/100\n",
      "97/97 - 0s - loss: 0.7702 - accuracy: 0.6622\n",
      "Epoch 28/100\n",
      "97/97 - 0s - loss: 0.7772 - accuracy: 0.6593\n",
      "Epoch 29/100\n",
      "97/97 - 0s - loss: 0.7654 - accuracy: 0.6545\n",
      "Epoch 30/100\n",
      "97/97 - 0s - loss: 0.7587 - accuracy: 0.6577\n",
      "Epoch 31/100\n",
      "97/97 - 0s - loss: 0.7747 - accuracy: 0.6473\n",
      "Epoch 32/100\n",
      "97/97 - 0s - loss: 0.7585 - accuracy: 0.6661\n",
      "Epoch 33/100\n",
      "97/97 - 0s - loss: 0.7770 - accuracy: 0.6665\n",
      "Epoch 34/100\n",
      "97/97 - 0s - loss: 0.7649 - accuracy: 0.6574\n",
      "Epoch 35/100\n",
      "97/97 - 0s - loss: 0.7551 - accuracy: 0.6639\n",
      "Epoch 36/100\n",
      "97/97 - 0s - loss: 0.7543 - accuracy: 0.6739\n",
      "Epoch 37/100\n",
      "97/97 - 0s - loss: 0.7516 - accuracy: 0.6645\n",
      "Epoch 38/100\n",
      "97/97 - 0s - loss: 0.7622 - accuracy: 0.6665\n",
      "Epoch 39/100\n",
      "97/97 - 0s - loss: 0.7575 - accuracy: 0.6658\n",
      "Epoch 40/100\n",
      "97/97 - 0s - loss: 0.7446 - accuracy: 0.6665\n",
      "Epoch 41/100\n",
      "97/97 - 0s - loss: 0.7412 - accuracy: 0.6655\n",
      "Epoch 42/100\n",
      "97/97 - 0s - loss: 0.7270 - accuracy: 0.6788\n",
      "Epoch 43/100\n",
      "97/97 - 0s - loss: 0.7394 - accuracy: 0.6729\n",
      "Epoch 44/100\n",
      "97/97 - 0s - loss: 0.7310 - accuracy: 0.6736\n",
      "Epoch 45/100\n",
      "97/97 - 0s - loss: 0.7435 - accuracy: 0.6713\n",
      "Epoch 46/100\n",
      "97/97 - 0s - loss: 0.7349 - accuracy: 0.6742\n",
      "Epoch 47/100\n",
      "97/97 - 0s - loss: 0.7280 - accuracy: 0.6687\n",
      "Epoch 48/100\n",
      "97/97 - 0s - loss: 0.7271 - accuracy: 0.6755\n",
      "Epoch 49/100\n",
      "97/97 - 0s - loss: 0.7351 - accuracy: 0.6687\n",
      "Epoch 50/100\n",
      "97/97 - 0s - loss: 0.7287 - accuracy: 0.6720\n",
      "Epoch 51/100\n",
      "97/97 - 0s - loss: 0.7118 - accuracy: 0.6862\n",
      "Epoch 52/100\n",
      "97/97 - 0s - loss: 0.7135 - accuracy: 0.6865\n",
      "Epoch 53/100\n",
      "97/97 - 0s - loss: 0.7183 - accuracy: 0.6810\n",
      "Epoch 54/100\n",
      "97/97 - 0s - loss: 0.7207 - accuracy: 0.6778\n",
      "Epoch 55/100\n",
      "97/97 - 0s - loss: 0.7116 - accuracy: 0.6856\n",
      "Epoch 56/100\n",
      "97/97 - 0s - loss: 0.7124 - accuracy: 0.6885\n",
      "Epoch 57/100\n",
      "97/97 - 0s - loss: 0.7127 - accuracy: 0.6904\n",
      "Epoch 58/100\n",
      "97/97 - 0s - loss: 0.7023 - accuracy: 0.6843\n",
      "Epoch 59/100\n",
      "97/97 - 0s - loss: 0.7011 - accuracy: 0.6907\n",
      "Epoch 60/100\n",
      "97/97 - 0s - loss: 0.6863 - accuracy: 0.6953\n",
      "Epoch 61/100\n",
      "97/97 - 0s - loss: 0.6960 - accuracy: 0.6920\n",
      "Epoch 62/100\n",
      "97/97 - 0s - loss: 0.7000 - accuracy: 0.6966\n",
      "Epoch 63/100\n",
      "97/97 - 0s - loss: 0.6950 - accuracy: 0.7021\n",
      "Epoch 64/100\n",
      "97/97 - 0s - loss: 0.6899 - accuracy: 0.6969\n",
      "Epoch 65/100\n",
      "97/97 - 0s - loss: 0.6763 - accuracy: 0.6956\n",
      "Epoch 66/100\n",
      "97/97 - 0s - loss: 0.6742 - accuracy: 0.7060\n",
      "Epoch 67/100\n",
      "97/97 - 0s - loss: 0.6746 - accuracy: 0.7017\n",
      "Epoch 68/100\n",
      "97/97 - 0s - loss: 0.6825 - accuracy: 0.6975\n",
      "Epoch 69/100\n",
      "97/97 - 0s - loss: 0.6691 - accuracy: 0.7056\n",
      "Epoch 70/100\n",
      "97/97 - 0s - loss: 0.6757 - accuracy: 0.7079\n",
      "Epoch 71/100\n",
      "97/97 - 0s - loss: 0.6786 - accuracy: 0.6904\n",
      "Epoch 72/100\n",
      "97/97 - 0s - loss: 0.6779 - accuracy: 0.7014\n",
      "Epoch 73/100\n",
      "97/97 - 0s - loss: 0.6695 - accuracy: 0.6959\n",
      "Epoch 74/100\n",
      "97/97 - 0s - loss: 0.6581 - accuracy: 0.7102\n",
      "Epoch 75/100\n",
      "97/97 - 0s - loss: 0.6484 - accuracy: 0.7202\n",
      "Epoch 76/100\n",
      "97/97 - 0s - loss: 0.6589 - accuracy: 0.7105\n",
      "Epoch 77/100\n",
      "97/97 - 0s - loss: 0.6623 - accuracy: 0.7095\n",
      "Epoch 78/100\n",
      "97/97 - 0s - loss: 0.6467 - accuracy: 0.7060\n",
      "Epoch 79/100\n",
      "97/97 - 0s - loss: 0.6443 - accuracy: 0.7199\n",
      "Epoch 80/100\n",
      "97/97 - 0s - loss: 0.6427 - accuracy: 0.7179\n",
      "Epoch 81/100\n",
      "97/97 - 0s - loss: 0.6636 - accuracy: 0.7085\n",
      "Epoch 82/100\n",
      "97/97 - 0s - loss: 0.6430 - accuracy: 0.7144\n",
      "Epoch 83/100\n",
      "97/97 - 0s - loss: 0.6332 - accuracy: 0.7218\n",
      "Epoch 84/100\n",
      "97/97 - 0s - loss: 0.6246 - accuracy: 0.7315\n",
      "Epoch 85/100\n",
      "97/97 - 0s - loss: 0.6421 - accuracy: 0.7225\n",
      "Epoch 86/100\n",
      "97/97 - 0s - loss: 0.6244 - accuracy: 0.7241\n",
      "Epoch 87/100\n",
      "97/97 - 0s - loss: 0.6206 - accuracy: 0.7234\n",
      "Epoch 88/100\n",
      "97/97 - 0s - loss: 0.6323 - accuracy: 0.7231\n",
      "Epoch 89/100\n",
      "97/97 - 0s - loss: 0.6110 - accuracy: 0.7351\n",
      "Epoch 90/100\n",
      "97/97 - 0s - loss: 0.6159 - accuracy: 0.7270\n",
      "Epoch 91/100\n",
      "97/97 - 0s - loss: 0.6220 - accuracy: 0.7264\n",
      "Epoch 92/100\n",
      "97/97 - 0s - loss: 0.6153 - accuracy: 0.7225\n",
      "Epoch 93/100\n",
      "97/97 - 0s - loss: 0.6077 - accuracy: 0.7306\n",
      "Epoch 94/100\n",
      "97/97 - 0s - loss: 0.6289 - accuracy: 0.7192\n",
      "Epoch 95/100\n",
      "97/97 - 0s - loss: 0.5930 - accuracy: 0.7374\n",
      "Epoch 96/100\n",
      "97/97 - 0s - loss: 0.6247 - accuracy: 0.7283\n",
      "Epoch 97/100\n",
      "97/97 - 0s - loss: 0.5966 - accuracy: 0.7338\n",
      "Epoch 98/100\n",
      "97/97 - 0s - loss: 0.5905 - accuracy: 0.7471\n",
      "Epoch 99/100\n",
      "97/97 - 0s - loss: 0.5810 - accuracy: 0.7406\n",
      "Epoch 100/100\n",
      "97/97 - 0s - loss: 0.5848 - accuracy: 0.7442\n"
     ]
    }
   ],
   "source": [
    "fit_model = model.fit(\n",
    "    X_train,\n",
    "    encoded_y_train,\n",
    "    epochs=100,\n",
    "    shuffle=True,\n",
    "    verbose=2\n",
    ")"
   ]
  },
  {
   "cell_type": "code",
   "execution_count": 81,
   "id": "offensive-motel",
   "metadata": {},
   "outputs": [
    {
     "data": {
      "text/html": [
       "<div>\n",
       "<style scoped>\n",
       "    .dataframe tbody tr th:only-of-type {\n",
       "        vertical-align: middle;\n",
       "    }\n",
       "\n",
       "    .dataframe tbody tr th {\n",
       "        vertical-align: top;\n",
       "    }\n",
       "\n",
       "    .dataframe thead th {\n",
       "        text-align: right;\n",
       "    }\n",
       "</style>\n",
       "<table border=\"1\" class=\"dataframe\">\n",
       "  <thead>\n",
       "    <tr style=\"text-align: right;\">\n",
       "      <th></th>\n",
       "      <th>Actual</th>\n",
       "      <th>Predicted</th>\n",
       "    </tr>\n",
       "  </thead>\n",
       "  <tbody>\n",
       "    <tr>\n",
       "      <th>2051</th>\n",
       "      <td>4</td>\n",
       "      <td>3</td>\n",
       "    </tr>\n",
       "    <tr>\n",
       "      <th>1520</th>\n",
       "      <td>2</td>\n",
       "      <td>1</td>\n",
       "    </tr>\n",
       "    <tr>\n",
       "      <th>823</th>\n",
       "      <td>3</td>\n",
       "      <td>2</td>\n",
       "    </tr>\n",
       "    <tr>\n",
       "      <th>3634</th>\n",
       "      <td>4</td>\n",
       "      <td>1</td>\n",
       "    </tr>\n",
       "    <tr>\n",
       "      <th>2932</th>\n",
       "      <td>4</td>\n",
       "      <td>2</td>\n",
       "    </tr>\n",
       "    <tr>\n",
       "      <th>2435</th>\n",
       "      <td>2</td>\n",
       "      <td>1</td>\n",
       "    </tr>\n",
       "    <tr>\n",
       "      <th>1953</th>\n",
       "      <td>3</td>\n",
       "      <td>2</td>\n",
       "    </tr>\n",
       "    <tr>\n",
       "      <th>200</th>\n",
       "      <td>4</td>\n",
       "      <td>2</td>\n",
       "    </tr>\n",
       "    <tr>\n",
       "      <th>1915</th>\n",
       "      <td>4</td>\n",
       "      <td>4</td>\n",
       "    </tr>\n",
       "    <tr>\n",
       "      <th>2538</th>\n",
       "      <td>3</td>\n",
       "      <td>3</td>\n",
       "    </tr>\n",
       "  </tbody>\n",
       "</table>\n",
       "</div>"
      ],
      "text/plain": [
       "      Actual  Predicted\n",
       "2051       4          3\n",
       "1520       2          1\n",
       "823        3          2\n",
       "3634       4          1\n",
       "2932       4          2\n",
       "2435       2          1\n",
       "1953       3          2\n",
       "200        4          2\n",
       "1915       4          4\n",
       "2538       3          3"
      ]
     },
     "execution_count": 81,
     "metadata": {},
     "output_type": "execute_result"
    }
   ],
   "source": [
    "# Make predictions\n",
    "predicted = model.predict(X_test_scaled)\n",
    "predicted = enc.inverse_transform(predicted).flatten().tolist()\n",
    "results = pandas.DataFrame({\n",
    "    \"Actual\": y_test,\n",
    "    \"Predicted\": predicted\n",
    "})\n",
    "results.head(10)"
   ]
  },
  {
   "cell_type": "code",
   "execution_count": 82,
   "id": "solid-queue",
   "metadata": {},
   "outputs": [
    {
     "name": "stdout",
     "output_type": "stream",
     "text": [
      "              precision    recall  f1-score   support\n",
      "\n",
      "           1       0.04      1.00      0.08        10\n",
      "           2       0.11      0.45      0.18        96\n",
      "           3       0.37      0.08      0.13       426\n",
      "           4       0.65      0.39      0.49       490\n",
      "           5       0.00      0.00      0.00         8\n",
      "\n",
      "    accuracy                           0.27      1030\n",
      "   macro avg       0.24      0.38      0.18      1030\n",
      "weighted avg       0.47      0.27      0.31      1030\n",
      "\n"
     ]
    }
   ],
   "source": [
    "print(classification_report(results.Actual, results.Predicted))"
   ]
  },
  {
   "cell_type": "code",
   "execution_count": 83,
   "id": "quick-black",
   "metadata": {},
   "outputs": [
    {
     "data": {
      "text/plain": [
       "<AxesSubplot:>"
      ]
     },
     "execution_count": 83,
     "metadata": {},
     "output_type": "execute_result"
    },
    {
     "data": {
      "image/png": "[encoded data removed]",
      "text/plain": [
       "<Figure size 432x288 with 1 Axes>"
      ]
     },
     "metadata": {
      "needs_background": "light"
     },
     "output_type": "display_data"
    }
   ],
   "source": [
    "#testing\n",
    "result_df = pandas.DataFrame(\n",
    "    fit_model.history,\n",
    "    index = range(1, len(fit_model.history[\"loss\"]) + 1)\n",
    ")\n",
    "\n",
    "result_df.plot(y=\"loss\")"
   ]
  },
  {
   "cell_type": "code",
   "execution_count": 84,
   "id": "clear-compromise",
   "metadata": {},
   "outputs": [
    {
     "data": {
      "text/plain": [
       "<AxesSubplot:>"
      ]
     },
     "execution_count": 84,
     "metadata": {},
     "output_type": "execute_result"
    },
    {
     "data": {
      "image/png": "[encoded data removed]",
      "text/plain": [
       "<Figure size 432x288 with 1 Axes>"
      ]
     },
     "metadata": {
      "needs_background": "light"
     },
     "output_type": "display_data"
    }
   ],
   "source": [
    "#testing\n",
    "result_df = pandas.DataFrame(\n",
    "    fit_model.history,\n",
    "    index = range(1, len(fit_model.history[\"accuracy\"]) + 1)\n",
    ")\n",
    "\n",
    "result_df.plot(y=\"accuracy\")"
   ]
  },
  {
   "cell_type": "code",
   "execution_count": 85,
   "id": "quick-brown",
   "metadata": {},
   "outputs": [
    {
     "ename": "ValueError",
     "evalue": "Classification metrics can't handle a mix of multiclass and continuous-multioutput targets",
     "output_type": "error",
     "traceback": [
      "\u001b[0;31m---------------------------------------------------------------------------\u001b[0m",
      "\u001b[0;31mValueError\u001b[0m                                Traceback (most recent call last)",
      "\u001b[0;32m<ipython-input-85-7d13e064f53d>\u001b[0m in \u001b[0;36m<module>\u001b[0;34m\u001b[0m\n\u001b[1;32m      2\u001b[0m \u001b[0;32mfrom\u001b[0m \u001b[0msklearn\u001b[0m\u001b[0;34m.\u001b[0m\u001b[0mmetrics\u001b[0m \u001b[0;32mimport\u001b[0m \u001b[0mbalanced_accuracy_score\u001b[0m\u001b[0;34m\u001b[0m\u001b[0;34m\u001b[0m\u001b[0m\n\u001b[1;32m      3\u001b[0m \u001b[0my_pred\u001b[0m \u001b[0;34m=\u001b[0m \u001b[0mmodel\u001b[0m\u001b[0;34m.\u001b[0m\u001b[0mpredict\u001b[0m\u001b[0;34m(\u001b[0m\u001b[0mX_test\u001b[0m\u001b[0;34m)\u001b[0m\u001b[0;34m\u001b[0m\u001b[0;34m\u001b[0m\u001b[0m\n\u001b[0;32m----> 4\u001b[0;31m \u001b[0mbalanced_accuracy_score\u001b[0m\u001b[0;34m(\u001b[0m\u001b[0my_test\u001b[0m\u001b[0;34m,\u001b[0m \u001b[0my_pred\u001b[0m\u001b[0;34m)\u001b[0m\u001b[0;34m\u001b[0m\u001b[0;34m\u001b[0m\u001b[0m\n\u001b[0m",
      "\u001b[0;32m/usr/local/Caskroom/miniconda/base/envs/mlenv/lib/python3.7/site-packages/sklearn/utils/validation.py\u001b[0m in \u001b[0;36minner_f\u001b[0;34m(*args, **kwargs)\u001b[0m\n\u001b[1;32m     70\u001b[0m                           FutureWarning)\n\u001b[1;32m     71\u001b[0m         \u001b[0mkwargs\u001b[0m\u001b[0;34m.\u001b[0m\u001b[0mupdate\u001b[0m\u001b[0;34m(\u001b[0m\u001b[0;34m{\u001b[0m\u001b[0mk\u001b[0m\u001b[0;34m:\u001b[0m \u001b[0marg\u001b[0m \u001b[0;32mfor\u001b[0m \u001b[0mk\u001b[0m\u001b[0;34m,\u001b[0m \u001b[0marg\u001b[0m \u001b[0;32min\u001b[0m \u001b[0mzip\u001b[0m\u001b[0;34m(\u001b[0m\u001b[0msig\u001b[0m\u001b[0;34m.\u001b[0m\u001b[0mparameters\u001b[0m\u001b[0;34m,\u001b[0m \u001b[0margs\u001b[0m\u001b[0;34m)\u001b[0m\u001b[0;34m}\u001b[0m\u001b[0;34m)\u001b[0m\u001b[0;34m\u001b[0m\u001b[0;34m\u001b[0m\u001b[0m\n\u001b[0;32m---> 72\u001b[0;31m         \u001b[0;32mreturn\u001b[0m \u001b[0mf\u001b[0m\u001b[0;34m(\u001b[0m\u001b[0;34m**\u001b[0m\u001b[0mkwargs\u001b[0m\u001b[0;34m)\u001b[0m\u001b[0;34m\u001b[0m\u001b[0;34m\u001b[0m\u001b[0m\n\u001b[0m\u001b[1;32m     73\u001b[0m     \u001b[0;32mreturn\u001b[0m \u001b[0minner_f\u001b[0m\u001b[0;34m\u001b[0m\u001b[0;34m\u001b[0m\u001b[0m\n\u001b[1;32m     74\u001b[0m \u001b[0;34m\u001b[0m\u001b[0m\n",
      "\u001b[0;32m/usr/local/Caskroom/miniconda/base/envs/mlenv/lib/python3.7/site-packages/sklearn/metrics/_classification.py\u001b[0m in \u001b[0;36mbalanced_accuracy_score\u001b[0;34m(y_true, y_pred, sample_weight, adjusted)\u001b[0m\n\u001b[1;32m   1808\u001b[0m \u001b[0;34m\u001b[0m\u001b[0m\n\u001b[1;32m   1809\u001b[0m     \"\"\"\n\u001b[0;32m-> 1810\u001b[0;31m     \u001b[0mC\u001b[0m \u001b[0;34m=\u001b[0m \u001b[0mconfusion_matrix\u001b[0m\u001b[0;34m(\u001b[0m\u001b[0my_true\u001b[0m\u001b[0;34m,\u001b[0m \u001b[0my_pred\u001b[0m\u001b[0;34m,\u001b[0m \u001b[0msample_weight\u001b[0m\u001b[0;34m=\u001b[0m\u001b[0msample_weight\u001b[0m\u001b[0;34m)\u001b[0m\u001b[0;34m\u001b[0m\u001b[0;34m\u001b[0m\u001b[0m\n\u001b[0m\u001b[1;32m   1811\u001b[0m     \u001b[0;32mwith\u001b[0m \u001b[0mnp\u001b[0m\u001b[0;34m.\u001b[0m\u001b[0merrstate\u001b[0m\u001b[0;34m(\u001b[0m\u001b[0mdivide\u001b[0m\u001b[0;34m=\u001b[0m\u001b[0;34m'ignore'\u001b[0m\u001b[0;34m,\u001b[0m \u001b[0minvalid\u001b[0m\u001b[0;34m=\u001b[0m\u001b[0;34m'ignore'\u001b[0m\u001b[0;34m)\u001b[0m\u001b[0;34m:\u001b[0m\u001b[0;34m\u001b[0m\u001b[0;34m\u001b[0m\u001b[0m\n\u001b[1;32m   1812\u001b[0m         \u001b[0mper_class\u001b[0m \u001b[0;34m=\u001b[0m \u001b[0mnp\u001b[0m\u001b[0;34m.\u001b[0m\u001b[0mdiag\u001b[0m\u001b[0;34m(\u001b[0m\u001b[0mC\u001b[0m\u001b[0;34m)\u001b[0m \u001b[0;34m/\u001b[0m \u001b[0mC\u001b[0m\u001b[0;34m.\u001b[0m\u001b[0msum\u001b[0m\u001b[0;34m(\u001b[0m\u001b[0maxis\u001b[0m\u001b[0;34m=\u001b[0m\u001b[0;36m1\u001b[0m\u001b[0;34m)\u001b[0m\u001b[0;34m\u001b[0m\u001b[0;34m\u001b[0m\u001b[0m\n",
      "\u001b[0;32m/usr/local/Caskroom/miniconda/base/envs/mlenv/lib/python3.7/site-packages/sklearn/utils/validation.py\u001b[0m in \u001b[0;36minner_f\u001b[0;34m(*args, **kwargs)\u001b[0m\n\u001b[1;32m     70\u001b[0m                           FutureWarning)\n\u001b[1;32m     71\u001b[0m         \u001b[0mkwargs\u001b[0m\u001b[0;34m.\u001b[0m\u001b[0mupdate\u001b[0m\u001b[0;34m(\u001b[0m\u001b[0;34m{\u001b[0m\u001b[0mk\u001b[0m\u001b[0;34m:\u001b[0m \u001b[0marg\u001b[0m \u001b[0;32mfor\u001b[0m \u001b[0mk\u001b[0m\u001b[0;34m,\u001b[0m \u001b[0marg\u001b[0m \u001b[0;32min\u001b[0m \u001b[0mzip\u001b[0m\u001b[0;34m(\u001b[0m\u001b[0msig\u001b[0m\u001b[0;34m.\u001b[0m\u001b[0mparameters\u001b[0m\u001b[0;34m,\u001b[0m \u001b[0margs\u001b[0m\u001b[0;34m)\u001b[0m\u001b[0;34m}\u001b[0m\u001b[0;34m)\u001b[0m\u001b[0;34m\u001b[0m\u001b[0;34m\u001b[0m\u001b[0m\n\u001b[0;32m---> 72\u001b[0;31m         \u001b[0;32mreturn\u001b[0m \u001b[0mf\u001b[0m\u001b[0;34m(\u001b[0m\u001b[0;34m**\u001b[0m\u001b[0mkwargs\u001b[0m\u001b[0;34m)\u001b[0m\u001b[0;34m\u001b[0m\u001b[0;34m\u001b[0m\u001b[0m\n\u001b[0m\u001b[1;32m     73\u001b[0m     \u001b[0;32mreturn\u001b[0m \u001b[0minner_f\u001b[0m\u001b[0;34m\u001b[0m\u001b[0;34m\u001b[0m\u001b[0m\n\u001b[1;32m     74\u001b[0m \u001b[0;34m\u001b[0m\u001b[0m\n",
      "\u001b[0;32m/usr/local/Caskroom/miniconda/base/envs/mlenv/lib/python3.7/site-packages/sklearn/metrics/_classification.py\u001b[0m in \u001b[0;36mconfusion_matrix\u001b[0;34m(y_true, y_pred, labels, sample_weight, normalize)\u001b[0m\n\u001b[1;32m    274\u001b[0m \u001b[0;34m\u001b[0m\u001b[0m\n\u001b[1;32m    275\u001b[0m     \"\"\"\n\u001b[0;32m--> 276\u001b[0;31m     \u001b[0my_type\u001b[0m\u001b[0;34m,\u001b[0m \u001b[0my_true\u001b[0m\u001b[0;34m,\u001b[0m \u001b[0my_pred\u001b[0m \u001b[0;34m=\u001b[0m \u001b[0m_check_targets\u001b[0m\u001b[0;34m(\u001b[0m\u001b[0my_true\u001b[0m\u001b[0;34m,\u001b[0m \u001b[0my_pred\u001b[0m\u001b[0;34m)\u001b[0m\u001b[0;34m\u001b[0m\u001b[0;34m\u001b[0m\u001b[0m\n\u001b[0m\u001b[1;32m    277\u001b[0m     \u001b[0;32mif\u001b[0m \u001b[0my_type\u001b[0m \u001b[0;32mnot\u001b[0m \u001b[0;32min\u001b[0m \u001b[0;34m(\u001b[0m\u001b[0;34m\"binary\"\u001b[0m\u001b[0;34m,\u001b[0m \u001b[0;34m\"multiclass\"\u001b[0m\u001b[0;34m)\u001b[0m\u001b[0;34m:\u001b[0m\u001b[0;34m\u001b[0m\u001b[0;34m\u001b[0m\u001b[0m\n\u001b[1;32m    278\u001b[0m         \u001b[0;32mraise\u001b[0m \u001b[0mValueError\u001b[0m\u001b[0;34m(\u001b[0m\u001b[0;34m\"%s is not supported\"\u001b[0m \u001b[0;34m%\u001b[0m \u001b[0my_type\u001b[0m\u001b[0;34m)\u001b[0m\u001b[0;34m\u001b[0m\u001b[0;34m\u001b[0m\u001b[0m\n",
      "\u001b[0;32m/usr/local/Caskroom/miniconda/base/envs/mlenv/lib/python3.7/site-packages/sklearn/metrics/_classification.py\u001b[0m in \u001b[0;36m_check_targets\u001b[0;34m(y_true, y_pred)\u001b[0m\n\u001b[1;32m     89\u001b[0m     \u001b[0;32mif\u001b[0m \u001b[0mlen\u001b[0m\u001b[0;34m(\u001b[0m\u001b[0my_type\u001b[0m\u001b[0;34m)\u001b[0m \u001b[0;34m>\u001b[0m \u001b[0;36m1\u001b[0m\u001b[0;34m:\u001b[0m\u001b[0;34m\u001b[0m\u001b[0;34m\u001b[0m\u001b[0m\n\u001b[1;32m     90\u001b[0m         raise ValueError(\"Classification metrics can't handle a mix of {0} \"\n\u001b[0;32m---> 91\u001b[0;31m                          \"and {1} targets\".format(type_true, type_pred))\n\u001b[0m\u001b[1;32m     92\u001b[0m \u001b[0;34m\u001b[0m\u001b[0m\n\u001b[1;32m     93\u001b[0m     \u001b[0;31m# We can't have more than one value on y_type => The set is no more needed\u001b[0m\u001b[0;34m\u001b[0m\u001b[0;34m\u001b[0m\u001b[0;34m\u001b[0m\u001b[0m\n",
      "\u001b[0;31mValueError\u001b[0m: Classification metrics can't handle a mix of multiclass and continuous-multioutput targets"
     ]
    }
   ],
   "source": []
  },
  {
   "cell_type": "code",
   "execution_count": null,
   "id": "legal-universe",
   "metadata": {},
   "outputs": [],
   "source": [
    "#r2"
   ]
  }
 ],
 "metadata": {
  "kernelspec": {
   "display_name": "mlenv",
   "language": "python",
   "name": "mlenv"
  },
  "language_info": {
   "codemirror_mode": {
    "name": "ipython",
    "version": 3
   },
   "file_extension": ".py",
   "mimetype": "text/x-python",
   "name": "python",
   "nbconvert_exporter": "python",
   "pygments_lexer": "ipython3",
   "version": "3.7.9"
  }
 },
 "nbformat": 4,
 "nbformat_minor": 5
}
