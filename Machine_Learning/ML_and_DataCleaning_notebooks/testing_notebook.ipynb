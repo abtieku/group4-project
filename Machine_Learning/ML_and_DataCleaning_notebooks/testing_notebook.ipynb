{
 "cells": [
  {
   "cell_type": "code",
   "execution_count": 1,
   "id": "metropolitan-gasoline",
   "metadata": {},
   "outputs": [],
   "source": [
    "import pandas\n",
    "import json\n",
    "from pprint import pprint\n",
    "from connect_sql_db import build_engine\n",
    "from IPython.display import clear_output"
   ]
  },
  {
   "cell_type": "code",
   "execution_count": 2,
   "id": "violent-commission",
   "metadata": {},
   "outputs": [],
   "source": [
    "engine = build_engine(database_name=\"database1\",host=\"35.225.193.21\")"
   ]
  },
  {
   "cell_type": "markdown",
   "id": "mobile-jersey",
   "metadata": {},
   "source": [
    "# Building Business DataFrame"
   ]
  },
  {
   "cell_type": "code",
   "execution_count": null,
   "id": "african-career",
   "metadata": {},
   "outputs": [],
   "source": [
    "dataset = []\n",
    "for line in open(\"../../../data/yelp_dataset/yelp_academic_dataset_business.json\"):\n",
    "    dataset.append(json.loads(line))"
   ]
  },
  {
   "cell_type": "code",
   "execution_count": null,
   "id": "promotional-warning",
   "metadata": {},
   "outputs": [],
   "source": [
    "for dictionary in dataset:\n",
    "    dictionary[\"categories\"] = 0\n",
    "    dictionary[\"attributes\"] = 0\n",
    "    dictionary[\"hours\"] = 0"
   ]
  },
  {
   "cell_type": "code",
   "execution_count": null,
   "id": "bibliographic-sampling",
   "metadata": {},
   "outputs": [],
   "source": [
    "business_df = pandas.DataFrame(dataset)"
   ]
  },
  {
   "cell_type": "code",
   "execution_count": null,
   "id": "correct-steal",
   "metadata": {},
   "outputs": [],
   "source": [
    "business_df.drop(\n",
    "    [\n",
    "    \"categories\",\n",
    "    \"attributes\",\n",
    "    \"hours\"\n",
    "    ],\n",
    "    axis = 1,\n",
    "    inplace = True\n",
    ")"
   ]
  },
  {
   "cell_type": "code",
   "execution_count": null,
   "id": "meaningful-torture",
   "metadata": {},
   "outputs": [],
   "source": [
    "business_df.count()"
   ]
  },
  {
   "cell_type": "markdown",
   "id": "adverse-cricket",
   "metadata": {},
   "source": [
    "# Building Attributes DataFrame"
   ]
  },
  {
   "cell_type": "code",
   "execution_count": null,
   "id": "obvious-clothing",
   "metadata": {},
   "outputs": [],
   "source": [
    "dataset = []\n",
    "for line in open(\"../../../data/yelp_dataset/yelp_academic_dataset_business.json\"):\n",
    "    dataset.append(json.loads(line))"
   ]
  },
  {
   "cell_type": "code",
   "execution_count": null,
   "id": "proprietary-vegetarian",
   "metadata": {},
   "outputs": [],
   "source": [
    "unique_categories = []\n",
    "for i in dataset:\n",
    "    if i[\"categories\"] != None:\n",
    "        for v in i[\"categories\"].split(\",\"):\n",
    "            unique_categories.append((i[\"business_id\"],v.strip().replace(\" \",\"_\").replace(\"/\",\"_\").replace(\"\\\\\",\"_\").replace(\"&\",\"and\").lower()))\n",
    "    elif i[\"categories\"] == None:\n",
    "        unique_categories.append((i[\"business_id\"],\"None\"))\n",
    "        \n",
    "unique_categories = list(set(unique_categories))\n",
    "pprint(unique_categories[0:10])"
   ]
  },
  {
   "cell_type": "code",
   "execution_count": null,
   "id": "diverse-brighton",
   "metadata": {},
   "outputs": [],
   "source": [
    "business_df.head()"
   ]
  },
  {
   "cell_type": "code",
   "execution_count": null,
   "id": "close-remark",
   "metadata": {},
   "outputs": [],
   "source": [
    "attributes_df = business_df[[\"business_id\"]].copy()"
   ]
  },
  {
   "cell_type": "code",
   "execution_count": null,
   "id": "increased-enzyme",
   "metadata": {},
   "outputs": [],
   "source": [
    "columns = list(set([i[1]for i in unique_categories]))\n",
    "counter=1\n",
    "for i in columns:\n",
    "    print(f\"{counter/len(columns)}% complete {counter} of {len(columns)} columns created name: {i}\")\n",
    "    attributes_df[i] = 0\n",
    "    counter+=1"
   ]
  },
  {
   "cell_type": "code",
   "execution_count": null,
   "id": "perfect-wheat",
   "metadata": {},
   "outputs": [],
   "source": [
    "counter=1\n",
    "clear_me = 0\n",
    "for i in unique_categories:\n",
    "    print(f\"{counter/len(unique_categories)}% complete: cells affected {counter} of {len(unique_categories)}\")\n",
    "    attributes_df.loc[attributes_df.business_id == i[0],i[1]] = 1\n",
    "    counter+=1\n",
    "    clear_me += 1\n",
    "    if clear_me == 50 and counter != len(unique_categories):\n",
    "        clear_output()\n",
    "        clear_me = 0"
   ]
  },
  {
   "cell_type": "code",
   "execution_count": null,
   "id": "therapeutic-church",
   "metadata": {},
   "outputs": [],
   "source": [
    "attributes_df.head()"
   ]
  },
  {
   "cell_type": "code",
   "execution_count": null,
   "id": "authorized-alert",
   "metadata": {},
   "outputs": [],
   "source": [
    "attributes_df.count()"
   ]
  },
  {
   "cell_type": "code",
   "execution_count": null,
   "id": "agricultural-assistant",
   "metadata": {},
   "outputs": [],
   "source": [
    "attributes_df.to_csv(\"../../../data/attributes_table.csv\",index=False)"
   ]
  },
  {
   "cell_type": "markdown",
   "id": "theoretical-hunger",
   "metadata": {},
   "source": [
    "# Attributes DataFrame pt. 2"
   ]
  },
  {
   "cell_type": "code",
   "execution_count": null,
   "id": "broadband-edition",
   "metadata": {},
   "outputs": [],
   "source": [
    "dataset = []\n",
    "for line in open(\"../../../data/yelp_dataset/yelp_academic_dataset_business.json\"):\n",
    "    dataset.append(json.loads(line))"
   ]
  },
  {
   "cell_type": "code",
   "execution_count": null,
   "id": "domestic-translation",
   "metadata": {},
   "outputs": [],
   "source": [
    "attributes_df = pandas.read_csv(\"../../../data/attributes.csv\")"
   ]
  },
  {
   "cell_type": "code",
   "execution_count": null,
   "id": "detailed-directory",
   "metadata": {},
   "outputs": [],
   "source": [
    "unique_attributes = []\n",
    "for i in dataset:\n",
    "    if i[\"attributes\"] != None:\n",
    "        for v in dict(i[\"attributes\"]).keys():\n",
    "            unique_attributes.append(v)\n",
    "\n",
    "unique_attributes = list(set(unique_attributes))\n",
    "unique_attributes"
   ]
  },
  {
   "cell_type": "code",
   "execution_count": null,
   "id": "generic-petroleum",
   "metadata": {},
   "outputs": [],
   "source": [
    "for i in unique_attributes:\n",
    "    attributes_df[i] = 0"
   ]
  },
  {
   "cell_type": "code",
   "execution_count": null,
   "id": "dense-barcelona",
   "metadata": {},
   "outputs": [],
   "source": [
    "bool_list = []\n",
    "for i in dataset:\n",
    "    if i[\"attributes\"] != None:\n",
    "        for v,x in dict(i[\"attributes\"]).items():\n",
    "            if \"{\" in x or \"}\" in x:\n",
    "                bool_list.append((i[\"business_id\"],v,\"dict_col\"))\n",
    "            else:\n",
    "                bool_list.append((i[\"business_id\"],v,x.strip().replace(\"u'\",\"\").replace(\"'\",\"\").replace(\" \",\"_\").replace(\"/\",\"_\").replace(\"\\\\\",\"_\").replace(\"&\",\"and\").lower()))\n",
    "    elif i[\"attributes\"] == None:\n",
    "        bool_list.append((i[\"business_id\"],v,\"None\"))\n",
    "    \n",
    "bool_list[:10]   "
   ]
  },
  {
   "cell_type": "code",
   "execution_count": null,
   "id": "female-career",
   "metadata": {},
   "outputs": [],
   "source": [
    "counter = 1\n",
    "clear_me = 0\n",
    "for i,v,x in bool_list:\n",
    "    print(f\"{counter/len(bool_list)}% complete: cell {counter} of {len(bool_list)}\")\n",
    "    attributes_df.loc[attributes_df.business_id == i, v] = x\n",
    "    counter+=1\n",
    "    clear_me += 1\n",
    "    if clear_me == 50 and counter != len(bool_list):\n",
    "        clear_output()\n",
    "        clear_me = 0\n",
    "    "
   ]
  },
  {
   "cell_type": "code",
   "execution_count": null,
   "id": "played-cache",
   "metadata": {},
   "outputs": [],
   "source": [
    "attributes_df.to_csv(\"../../../data/attributes_table_pt2.csv\",index=False)"
   ]
  },
  {
   "cell_type": "code",
   "execution_count": null,
   "id": "graduate-mixture",
   "metadata": {},
   "outputs": [],
   "source": [
    "attributes_df.count()"
   ]
  },
  {
   "cell_type": "code",
   "execution_count": null,
   "id": "hybrid-decrease",
   "metadata": {},
   "outputs": [],
   "source": [
    "business_df.count()"
   ]
  },
  {
   "cell_type": "code",
   "execution_count": null,
   "id": "corporate-selection",
   "metadata": {},
   "outputs": [],
   "source": [
    "final_table = pandas.merge(business_df,attributes_df,how=\"left\",on=\"business_id\")"
   ]
  },
  {
   "cell_type": "code",
   "execution_count": null,
   "id": "congressional-surge",
   "metadata": {},
   "outputs": [],
   "source": [
    "final_table.to_csv(\"~/Desktop/merged_table_1.csv\", index = False)"
   ]
  },
  {
   "cell_type": "code",
   "execution_count": null,
   "id": "atmospheric-delta",
   "metadata": {},
   "outputs": [],
   "source": [
    "final_table.columns = [i.lower().replace(\" \",\"_\").replace(\"&\",\"and\").replace(\"(\",\"\").replace(\")\",\"\") for i in final_table.columns]\n"
   ]
  },
  {
   "cell_type": "code",
   "execution_count": null,
   "id": "welsh-genre",
   "metadata": {},
   "outputs": [],
   "source": [
    "filtered_df.to_sql(\n",
    "    \"merged_table_1\",\n",
    "    con = engine,\n",
    "    index = False, \n",
    "    method = 'multi',\n",
    "    chunksize = 10000,\n",
    "    if_exists=\"replace\"\n",
    ")"
   ]
  },
  {
   "cell_type": "code",
   "execution_count": null,
   "id": "handmade-modification",
   "metadata": {},
   "outputs": [],
   "source": [
    "len(final_table.columns)"
   ]
  },
  {
   "cell_type": "code",
   "execution_count": 3,
   "id": "brutal-message",
   "metadata": {},
   "outputs": [],
   "source": [
    "final_table = pandas.read_csv(\"~/Desktop/merged_table.csv\",low_memory = False)"
   ]
  },
  {
   "cell_type": "code",
   "execution_count": 4,
   "id": "yellow-structure",
   "metadata": {},
   "outputs": [
    {
     "data": {
      "text/plain": [
       "209393"
      ]
     },
     "execution_count": 4,
     "metadata": {},
     "output_type": "execute_result"
    }
   ],
   "source": [
    "len(final_table)"
   ]
  },
  {
   "cell_type": "code",
   "execution_count": 5,
   "id": "bright-habitat",
   "metadata": {},
   "outputs": [
    {
     "data": {
      "text/plain": [
       "31"
      ]
     },
     "execution_count": 5,
     "metadata": {},
     "output_type": "execute_result"
    }
   ],
   "source": [
    "food_lst=[]\n",
    "for i in final_table.columns:\n",
    "    if \"food\" in i or \"restaurant\" in i:\n",
    "        food_lst.append(i)\n",
    "len(food_lst)"
   ]
  },
  {
   "cell_type": "code",
   "execution_count": 6,
   "id": "requested-buddy",
   "metadata": {},
   "outputs": [
    {
     "data": {
      "text/plain": [
       "['pop-up_restaurants',\n",
       " 'specialty_food',\n",
       " 'ethnic_food',\n",
       " 'swiss_food',\n",
       " 'food_court',\n",
       " 'food_trucks',\n",
       " 'food_safety_training',\n",
       " 'live_raw_food',\n",
       " 'food_delivery_services',\n",
       " 'do-it-yourself_food',\n",
       " 'fast_food',\n",
       " 'restaurants',\n",
       " 'soul_food',\n",
       " 'comfort_food',\n",
       " 'imported_food',\n",
       " 'food_tours',\n",
       " 'seafood_markets',\n",
       " 'food_stands',\n",
       " 'food_banks',\n",
       " 'restaurant_supplies',\n",
       " 'pub_food',\n",
       " 'seafood',\n",
       " 'food',\n",
       " 'restaurantsattire',\n",
       " 'restaurantsdelivery',\n",
       " 'restaurantsreservations',\n",
       " 'restaurantstableservice',\n",
       " 'restaurantscounterservice',\n",
       " 'restaurantstakeout',\n",
       " 'restaurantspricerange2',\n",
       " 'restaurantsgoodforgroups']"
      ]
     },
     "execution_count": 6,
     "metadata": {},
     "output_type": "execute_result"
    }
   ],
   "source": [
    "food_lst"
   ]
  },
  {
   "cell_type": "code",
   "execution_count": 45,
   "id": "worst-imaging",
   "metadata": {},
   "outputs": [],
   "source": [
    "filtered_df = final_table.loc[\n",
    "    (final_table[food_lst[0]] == 1) |\n",
    "    (final_table[food_lst[1]] == 1) |\n",
    "    (final_table[food_lst[2]] == 1) |\n",
    "    (final_table[food_lst[3]] == 1) |\n",
    "    (final_table[food_lst[4]] == 1) |\n",
    "    (final_table[food_lst[5]] == 1) |\n",
    "    (final_table[food_lst[6]] == 1) |\n",
    "    (final_table[food_lst[7]] == 1) |\n",
    "    (final_table[food_lst[8]] == 1) |\n",
    "    (final_table[food_lst[9]] == 1) |\n",
    "    (final_table[food_lst[10]] == 1) |\n",
    "#     (final_table[food_lst[11]] == 1) |\n",
    "    (final_table[food_lst[12]] == 1) |\n",
    "    (final_table[food_lst[13]] == 1) |\n",
    "    (final_table[food_lst[14]] == 1) |\n",
    "    (final_table[food_lst[15]] == 1) |\n",
    "    (final_table[food_lst[16]] == 1) |\n",
    "    (final_table[food_lst[17]] == 1) |\n",
    "    (final_table[food_lst[18]] == 1) |\n",
    "    (final_table[food_lst[19]] == 1) |\n",
    "    (final_table[food_lst[20]] == 1) |\n",
    "    (final_table[food_lst[21]] == 1) |\n",
    "    (final_table[food_lst[22]] == 1) |\n",
    "    (final_table[food_lst[23]] == 1) |\n",
    "    (final_table[food_lst[24]] == 1) |\n",
    "    (final_table[food_lst[25]] == 1) |\n",
    "    (final_table[food_lst[26]] == 1) |\n",
    "    (final_table[food_lst[27]] == 1) |\n",
    "    (final_table[food_lst[28]] == 1) |\n",
    "    (final_table[food_lst[29]] == 1) |\n",
    "    (final_table[food_lst[30]] == 1) \n",
    "    \n",
    "].copy()"
   ]
  },
  {
   "cell_type": "code",
   "execution_count": 46,
   "id": "patent-authentication",
   "metadata": {},
   "outputs": [],
   "source": [
    "for i in filtered_df.columns:\n",
    "    if filtered_df[i].dtypes == int:\n",
    "        if sum(filtered_df[i].tolist()) == 0:\n",
    "            filtered_df.drop(i, axis = 1, inplace=True)"
   ]
  },
  {
   "cell_type": "code",
   "execution_count": 47,
   "id": "adaptive-blame",
   "metadata": {},
   "outputs": [
    {
     "data": {
      "text/plain": [
       "address        847\n",
       "postal_code    154\n",
       "dtype: int64"
      ]
     },
     "execution_count": 47,
     "metadata": {},
     "output_type": "execute_result"
    }
   ],
   "source": [
    "filtered_df.isna().sum()[filtered_df.isna().sum() > 0 ]"
   ]
  },
  {
   "cell_type": "code",
   "execution_count": 10,
   "id": "urban-blame",
   "metadata": {},
   "outputs": [
    {
     "data": {
      "text/plain": [
       "80505"
      ]
     },
     "execution_count": 10,
     "metadata": {},
     "output_type": "execute_result"
    }
   ],
   "source": [
    "filtered_df.business_id.count()"
   ]
  },
  {
   "cell_type": "code",
   "execution_count": 11,
   "id": "senior-pierre",
   "metadata": {},
   "outputs": [
    {
     "data": {
      "text/plain": [
       "974"
      ]
     },
     "execution_count": 11,
     "metadata": {},
     "output_type": "execute_result"
    }
   ],
   "source": [
    "len(filtered_df.columns)"
   ]
  },
  {
   "cell_type": "code",
   "execution_count": 12,
   "id": "respective-medline",
   "metadata": {},
   "outputs": [
    {
     "data": {
      "text/plain": [
       "1387"
      ]
     },
     "execution_count": 12,
     "metadata": {},
     "output_type": "execute_result"
    }
   ],
   "source": [
    "len(final_table.columns)"
   ]
  },
  {
   "cell_type": "code",
   "execution_count": 13,
   "id": "sustainable-applicant",
   "metadata": {},
   "outputs": [],
   "source": [
    "filtered_df.to_csv(\"~/Desktop/merged_table_1.csv\",index=False)"
   ]
  },
  {
   "cell_type": "code",
   "execution_count": 22,
   "id": "august-reach",
   "metadata": {},
   "outputs": [
    {
     "data": {
      "text/plain": [
       "address        912\n",
       "postal_code    183\n",
       "dtype: int64"
      ]
     },
     "execution_count": 22,
     "metadata": {},
     "output_type": "execute_result"
    }
   ],
   "source": [
    "filtered_df.drop(\"business_id\",axis=1).isna().sum()[filtered_df.isna().sum()> 0]"
   ]
  },
  {
   "cell_type": "code",
   "execution_count": 25,
   "id": "incomplete-naples",
   "metadata": {},
   "outputs": [
    {
     "name": "stdout",
     "output_type": "stream",
     "text": [
      "adult_entertainment\n",
      "sports_clubs\n",
      "haitian\n",
      "radio_stations\n",
      "musicians\n",
      "utilities\n",
      "kiosk\n",
      "formal_wear\n",
      "resorts\n",
      "empanadas\n",
      "internet_service_providers\n",
      "leisure_centers\n",
      "pediatric_dentists\n",
      "furniture_reupholstery\n",
      "vocational_and_technical_school\n",
      "horse_racing\n",
      "knitting_supplies\n",
      "mailbox_centers\n",
      "medical_spas\n",
      "home_organization\n",
      "childbirth_education\n",
      "bike_repair_maintenance\n",
      "pet_boarding\n",
      "video_game_stores\n",
      "videos_and_video_game_rental\n",
      "pop-up_restaurants\n",
      "day_camps\n",
      "couriers_and_delivery_services\n",
      "session_photography\n",
      "windows_installation\n",
      "boat_repair\n",
      "police_departments\n",
      "architectural_tours\n",
      "cultural_center\n",
      "atv_rentals_tours\n",
      "general_dentistry\n",
      "rock_climbing\n",
      "sugar_shacks\n",
      "backshop\n",
      "team_building_activities\n",
      "escape_games\n",
      "mini_golf\n",
      "hot_tub_and_pool\n",
      "beer_tours\n",
      "ukrainian\n",
      "vacation_rentals\n",
      "hungarian\n",
      "skydiving\n",
      "oil_change_stations\n",
      "estate_liquidation\n",
      "marketing\n",
      "senegalese\n",
      "comedy_clubs\n",
      "shipping_centers\n",
      "tattoo_removal\n",
      "pancakes\n",
      "lakes\n",
      "nurseries_and_gardening\n",
      "party_equipment_rentals\n",
      "blow_dry_out_services\n",
      "window_washing\n",
      "walking_tours\n",
      "gyms\n",
      "tree_services\n",
      "haunted_houses\n",
      "cafeteria\n",
      "real_estate_services\n",
      "pet_adoption\n",
      "train_stations\n",
      "auto_parts_and_supplies\n",
      "hardware_stores\n",
      "fireplace_services\n",
      "immigration_law\n",
      "real_estate\n",
      "personal_injury_law\n",
      "optometrists\n",
      "oaxacan\n",
      "boot_camps\n",
      "community_centers\n",
      "scooter_rentals\n",
      "veterinarians\n",
      "pick_your_own_farms\n",
      "awnings\n",
      "eritrean\n",
      "rv_repair\n",
      "ethnic_grocery\n",
      "uzbek\n",
      "squash\n",
      "contractors\n",
      "town_car_service\n",
      "traditional_chinese_medicine\n",
      "dinner_theater\n",
      "public_markets\n",
      "bike_tours\n",
      "eyewear_and_opticians\n",
      "hotel_bar\n",
      "virtual_reality_centers\n",
      "swiss_food\n",
      "sewing_and_alterations\n",
      "laser_hair_removal\n",
      "officiants\n",
      "fitness_exercise_equipment\n",
      "orthodontists\n",
      "studio_taping\n",
      "herbal_shops\n",
      "motorcycle_repair\n",
      "tableware\n",
      "brazilian_jiu-jitsu\n",
      "body_shops\n",
      "eastern_european\n",
      "diagnostic_services\n",
      "office_cleaning\n",
      "scandinavian\n",
      "pet_photography\n",
      "golf_equipment_shops\n",
      "electricians\n",
      "security_services\n",
      "sailing\n",
      "outdoor_movies\n",
      "vinyl_records\n",
      "burmese\n",
      "laser_tag\n",
      "bridal\n",
      "flowers\n",
      "food_safety_training\n",
      "barre_classes\n",
      "home_window_tinting\n",
      "baby_gear_and_furniture\n",
      "libraries\n",
      "acne_treatment\n",
      "middle_schools_and_high_schools\n",
      "adoption_services\n",
      "airsoft\n",
      "personal_shopping\n",
      "boxing\n",
      "emergency_medicine\n",
      "go_karts\n",
      "financial_services\n",
      "bangladeshi\n",
      "grill_services\n",
      "christmas_trees\n",
      "truck_rental\n",
      "laundry_services\n",
      "customized_merchandise\n",
      "check_cashing_pay-day_loans\n",
      "antiques\n",
      "local_fish_stores\n",
      "drive-thru_bars\n",
      "water_suppliers\n",
      "pita\n",
      "cycling_classes\n",
      "bartenders\n",
      "churros\n",
      "business_consulting\n",
      "well_drilling\n",
      "septic_services\n",
      "tiki_bars\n",
      "handyman\n",
      "wine_tours\n",
      "pet_services\n",
      "carpet_installation\n",
      "hydrotherapy\n",
      "psychologists\n",
      "animal_shelters\n",
      "shaved_snow\n",
      "packing_services\n",
      "olive_oil\n",
      "public_relations\n",
      "home_inspectors\n",
      "skating_rinks\n",
      "austrian\n",
      "legal_services\n",
      "personal_assistants\n",
      "bespoke_clothing\n",
      "sleep_specialists\n",
      "photographers\n",
      "software_development\n",
      "home_health_care\n",
      "farms\n",
      "ophthalmologists\n",
      "japanese_curry\n",
      "screen_printing\n",
      "boat_dealers\n",
      "print_media\n",
      "bingo_halls\n",
      "unofficial_yelp_events\n",
      "puerto_rican\n",
      "christmas_markets\n",
      "medical_cannabis_referrals\n",
      "shared_office_spaces\n",
      "bartending_schools\n",
      "basque\n",
      "eatertainment\n",
      "professional_sports_teams\n",
      "hunting_and_fishing_supplies\n",
      "damage_restoration\n",
      "paintball\n",
      "wheel_and_rim_repair\n",
      "event_photography\n",
      "street_art\n",
      "leather_goods\n",
      "pet_stores\n",
      "security_systems\n",
      "cabinetry\n",
      "pop-up_shops\n",
      "roadside_assistance\n",
      "land_surveying\n",
      "auto_customization\n",
      "calabrian\n",
      "spray_tanning\n",
      "commercial_real_estate\n",
      "toy_stores\n",
      "investing\n",
      "holiday_decorations\n",
      "watches\n",
      "siding\n",
      "religious_organizations\n",
      "parenting_classes\n",
      "guns_and_ammo\n",
      "carpet_cleaning\n",
      "car_share_services\n",
      "medical_centers\n",
      "pest_control\n",
      "cigar_bars\n",
      "car_buyers\n",
      "departments_of_motor_vehicles\n",
      "climbing\n",
      "taxis\n",
      "honduran\n",
      "foundation_repair\n",
      "magicians\n",
      "playgrounds\n",
      "special_education\n",
      "reflexology\n",
      "paint_and_sip\n",
      "stadiums_and_arenas\n",
      "holistic_animal_care\n",
      "czech\n",
      "engraving\n",
      "tanning\n",
      "graphic_design\n",
      "sicilian\n",
      "firewood\n",
      "used_car_dealers\n",
      "tasting_classes\n",
      "skin_care\n",
      "vintage_and_consignment\n",
      "hair_removal\n",
      "halotherapy\n",
      "golf_cart_rentals\n",
      "honey\n",
      "outlet_stores\n",
      "bankruptcy_law\n",
      "izakaya\n",
      "car_dealers\n",
      "dietitians\n",
      "kitchen_supplies\n",
      "airport_lounges\n",
      "plumbing\n",
      "car_window_tinting\n",
      "grout_services\n",
      "donation_center\n",
      "wigs\n",
      "country_dance_halls\n",
      "hostels\n",
      "hainan\n",
      "spiritual_shop\n",
      "interval_training_gyms\n",
      "cardio_classes\n",
      "game_meat\n",
      "attraction_farms\n",
      "mattresses\n",
      "auto_repair\n",
      "waxing\n",
      "bike_sharing\n",
      "auto_upholstery\n",
      "chiropractors\n",
      "livestock_feed_and_supply\n",
      "doulas\n",
      "art_museums\n",
      "funeral_services_and_cemeteries\n",
      "art_supplies\n",
      "djs\n",
      "commercial_truck_repair\n",
      "zoos\n",
      "airport_shuttles\n",
      "laboratory_testing\n",
      "venezuelan\n",
      "solar_installation\n",
      "party_characters\n",
      "estate_planning_law\n",
      "hats\n",
      "newspapers_and_magazines\n",
      "laotian\n",
      "shanghainese\n",
      "health_retreats\n",
      "sri_lankan\n",
      "electronics_repair\n",
      "educational_services\n",
      "recording_and_rehearsal_studios\n",
      "air_duct_cleaning\n",
      "gay_bars\n",
      "cosmetic_dentists\n",
      "floral_designers\n",
      "wine_tasting_classes\n",
      "bocce_ball\n",
      "occupational_therapy\n",
      "naturopathic_holistic\n",
      "club_crawl\n",
      "polynesian\n",
      "brewing_supplies\n",
      "observatories\n",
      "egyptian\n",
      "nail_technicians\n",
      "windshield_installation_and_repair\n",
      "clothing_rental\n",
      "piercing\n",
      "pressure_washers\n",
      "outdoor_gear\n",
      "tax_services\n",
      "lawyers\n",
      "reunion\n",
      "bulgarian\n",
      "trinidadian\n",
      "float_spa\n",
      "armenian\n",
      "life_coach\n",
      "animal_assisted_therapy\n",
      "cannabis_tours\n",
      "cannabis_collective\n",
      "hospitals\n",
      "chimney_cakes\n",
      "indoor_playcentre\n",
      "children's_clothing\n",
      "refinishing_services\n",
      "beer_hall\n",
      "beer_garden\n",
      "animal_physical_therapy\n",
      "irrigation\n",
      "thrift_stores\n",
      "adult\n",
      "flea_markets\n",
      "surf_schools\n",
      "counseling_and_mental_health\n",
      "massage\n",
      "batting_cages\n",
      "food_tours\n",
      "post_offices\n",
      "placenta_encapsulations\n",
      "banks_and_credit_unions\n",
      "australian\n",
      "trainers\n",
      "horseback_riding\n",
      "swimwear\n",
      "knife_sharpening\n",
      "aquarium_services\n",
      "costumes\n",
      "towing\n",
      "appliances\n",
      "country_clubs\n",
      "psychics\n",
      "physical_therapy\n",
      "cambodian\n",
      "pumpkin_patches\n",
      "colonics\n",
      "massage_therapy\n",
      "medical_supplies\n",
      "vape_shops\n",
      "singaporean\n",
      "minho\n",
      "makeup_artists\n",
      "advertising\n",
      "cards_and_stationery\n",
      "bikes\n",
      "tennis\n",
      "recreation_centers\n",
      "nicaraguan\n",
      "food_banks\n",
      "pet_sitting\n",
      "mobile_phone_accessories\n",
      "ski_schools\n",
      "hair_loss_centers\n",
      "tonkatsu\n",
      "transmission_repair\n",
      "printing_services\n",
      "airport_terminals\n",
      "accountants\n",
      "furniture_repair\n",
      "beverage_store\n",
      "museums\n",
      "commercial_truck_dealers\n",
      "high_fidelity_audio_equipment\n",
      "landscaping\n",
      "self_storage\n",
      "furniture_rental\n",
      "lan_centers\n",
      "university_housing\n",
      "bookkeepers\n",
      "product_design\n",
      "boat_tours\n",
      "party_bus_rentals\n",
      "luggage\n",
      "duty-free_shops\n",
      "home_cleaning\n",
      "bar_crawl\n",
      "kitchen_incubators\n",
      "airports\n",
      "limos\n",
      "piano_bars\n",
      "tattoo\n",
      "smog_check_stations\n",
      "beaches\n",
      "alternative_medicine\n",
      "interior_design\n",
      "lighting_fixtures_and_equipment\n",
      "cinema\n",
      "elementary_schools\n",
      "dance_studios\n",
      "door_sales_installation\n",
      "insurance\n",
      "wildlife_control\n",
      "aquariums\n",
      "car_rental\n",
      "bounce_house_rentals\n",
      "property_management\n",
      "mauritius\n",
      "udon\n",
      "balloon_services\n",
      "clowns\n",
      "gutter_services\n",
      "flooring\n",
      "souvenir_shops\n",
      "island_pub\n",
      "landmarks_and_historical_buildings\n",
      "auto_insurance\n",
      "eyebrow_services\n",
      "metal_fabricators\n",
      "courthouses\n",
      "computers\n",
      "trailer_repair\n",
      "homeless_shelters\n",
      "sports_wear\n",
      "nail_salons\n",
      "it_services_and_computer_repair\n",
      "office_equipment\n",
      "yoga\n",
      "cannabis_clinics\n",
      "public_transportation\n",
      "dumplings\n",
      "drywall_installation_and_repair\n",
      "summer_camps\n",
      "women's_clothing\n",
      "water_delivery\n",
      "art_schools\n",
      "pool_and_hot_tub_service\n",
      "pet_training\n",
      "3d_printing\n",
      "amateur_sports_teams\n",
      "pawn_shops\n",
      "themed_cafes\n",
      "colleges_and_universities\n",
      "keys_and_locksmiths\n",
      "ticket_sales\n",
      "sports_medicine\n",
      "dance_wear\n",
      "movers\n",
      "mobile_phone_repair\n",
      "mountain_biking\n",
      "hobby_shops\n",
      "dermatologists\n",
      "soba\n",
      "art_classes\n",
      "transportation\n",
      "health_coach\n",
      "currency_exchange\n",
      "outdoor_furniture_stores\n",
      "rest_stops\n",
      "wills\n",
      "personal_care_services\n",
      "notaries\n",
      "buddhist_temples\n",
      "traditional_clothing\n",
      "candle_stores\n",
      "tax_law\n",
      "paint-your-own_pottery\n",
      "propane\n",
      "barbers\n",
      "doctors\n",
      "pool_and_billiards\n",
      "masonry_concrete\n",
      "opera_and_ballet\n",
      "head_shops\n",
      "pain_management\n",
      "audio_visual_equipment_rental\n",
      "golf_equipment\n",
      "meditation_centers\n",
      "saunas\n",
      "signature_cuisine\n",
      "shoe_stores\n",
      "video_film_production\n",
      "scottish\n",
      "jewelry\n",
      "teeth_whitening\n",
      "pedicabs\n",
      "ethical_grocery\n",
      "visitor_centers\n",
      "eyelash_service\n",
      "lingerie\n",
      "japanese_sweets\n",
      "historical_tours\n",
      "indonesian\n",
      "guest_houses\n",
      "used_bookstore\n",
      "apartments\n",
      "coffeeshops\n",
      "real_estate_agents\n",
      "midwives\n",
      "musical_instruments_and_teachers\n",
      "dry_cleaning\n",
      "kids_hair_salons\n",
      "customs_brokers\n",
      "champagne_bars\n",
      "iberian\n",
      "photo_booth_rentals\n",
      "race_tracks\n",
      "payroll_services\n",
      "data_recovery\n",
      "painters\n",
      "tabletop_games\n",
      "laundromat\n",
      "mass_media\n",
      "tuscan\n",
      "private_tutors\n",
      "tanning_beds\n",
      "mortgage_brokers\n",
      "csa\n",
      "child_care_and_day_care\n",
      "pediatricians\n",
      "fire_protection_services\n",
      "strip_clubs\n",
      "cardiologists\n",
      "threading_services\n",
      "cabaret\n",
      "dog_walkers\n",
      "heating_and_air_conditioning_hvac\n",
      "medical_transportation\n",
      "men's_clothing\n",
      "fabric_stores\n",
      "ice_delivery\n",
      "pilates\n",
      "mosques\n",
      "hair_salons\n",
      "campgrounds\n",
      "gardeners\n",
      "restaurant_supplies\n",
      "nudist\n",
      "landscape_architects\n",
      "tempura\n",
      "glass_and_mirrors\n",
      "appliances_and_repair\n",
      "milkshake_bars\n",
      "churches\n",
      "shoe_repair\n",
      "beach_bars\n",
      "cannabis_dispensaries\n",
      "syrian\n",
      "dominican\n",
      "scooter_tours\n",
      "fishing\n",
      "pet_groomers\n",
      "rv_parks\n",
      "preschools\n",
      "bird_shops\n",
      "carpeting\n",
      "lighting_stores\n",
      "water_purification_services\n",
      "marinas\n",
      "tai_chi\n",
      "pub_food\n",
      "used\n",
      "general_festivals\n",
      "spin_classes\n",
      "fur_clothing\n",
      "travel_services\n",
      "anesthesiologists\n",
      "acupuncture\n",
      "auto_detailing\n",
      "employment_agencies\n",
      "building_supplies\n",
      "water_heater_installation_repair\n",
      "sporting_goods\n",
      "cheese_tasting_classes\n",
      "hair_extensions\n",
      "trusts\n",
      "speech_therapists\n",
      "tickets\n",
      "motorcycle_dealers\n",
      "grilling_equipment\n",
      "fences_and_gates\n",
      "czech_slovakian\n",
      "lawn_services\n",
      "hong_kong_style_cafe\n",
      "orthopedists\n",
      "scavenger_hunts\n",
      "feng_shui\n",
      "reiki\n",
      "dry_cleaning_and_laundry\n",
      "roofing\n",
      "guamanian\n",
      "supernatural_readings\n",
      "family_practice\n",
      "dentists\n",
      "martial_arts\n",
      "swimming_pools\n",
      "laser_eye_surgery_lasik\n",
      "gun_rifle_ranges\n",
      "web_design\n",
      "bike_rentals\n",
      "market_stalls\n",
      "botanical_gardens\n",
      "catalan\n",
      "trophy_shops\n",
      "trampoline_parks\n",
      "comic_books\n",
      "rehabilitation_center\n",
      "synagogues\n",
      "passport_and_visa_services\n",
      "junk_removal_and_hauling\n",
      "community_gardens\n",
      "parking\n",
      "plus_size_fashion\n",
      "golf_lessons\n",
      "rolfing\n",
      "vehicle_wraps\n",
      "music_and_dvds\n",
      "registration_services\n",
      "south_african\n",
      "perfume\n",
      "kombucha\n",
      "divorce_and_family_law\n",
      "soccer\n",
      "and_probates\n",
      "meaderies\n",
      "wedding_chapels\n",
      "yelp_events\n",
      "cideries\n",
      "parks\n",
      "hiking\n",
      "party_bike_rentals\n",
      "tiling\n",
      "boating\n",
      "videographers\n",
      "archery\n",
      "cosmetic_surgeons\n",
      "auto_glass_services\n",
      "hair_stylists\n",
      "dance_schools\n",
      "bus_tours\n",
      "slovakian\n",
      "amusement_parks\n",
      "supper_clubs\n",
      "teppanyaki\n",
      "rotisserie_chicken\n",
      "home_staging\n",
      "translation_services\n",
      "boat_charters\n",
      "conveyor_belt_sushi\n",
      "adult_education\n",
      "speakeasies\n",
      "accessories\n",
      "aircraft_repairs\n",
      "golf_cart_dealers\n",
      "signmaking\n",
      "ski_resorts\n"
     ]
    }
   ],
   "source": [
    "for i in filtered_df.columns:\n",
    "    if filtered_df[i].dtypes == int:\n",
    "        if filtered_df[i].sum() < 50:\n",
    "            print(i)"
   ]
  },
  {
   "cell_type": "code",
   "execution_count": 43,
   "id": "environmental-stocks",
   "metadata": {},
   "outputs": [
    {
     "data": {
      "text/plain": [
       "array([[0, 0, 0, 0, 0, 0, 0, 0, 0, 0, 0, 1, 0, 0, 0, 0, 0, 0, 0, 0, 0, 0,\n",
       "        0, '0', '0', '0', '0', '0', '0', '0', '0']], dtype=object)"
      ]
     },
     "execution_count": 43,
     "metadata": {},
     "output_type": "execute_result"
    }
   ],
   "source": [
    "filtered_df.loc[filtered_df.lingerie > 0][food_lst].values"
   ]
  },
  {
   "cell_type": "code",
   "execution_count": 44,
   "id": "reliable-suggestion",
   "metadata": {},
   "outputs": [
    {
     "data": {
      "text/plain": [
       "'restaurants'"
      ]
     },
     "execution_count": 44,
     "metadata": {},
     "output_type": "execute_result"
    }
   ],
   "source": [
    "food_lst[11]"
   ]
  },
  {
   "cell_type": "code",
   "execution_count": null,
   "id": "individual-volleyball",
   "metadata": {},
   "outputs": [],
   "source": []
  }
 ],
 "metadata": {
  "kernelspec": {
   "display_name": "minicondavenv_bootcamp",
   "language": "python",
   "name": "minicondavenv_bootcamp"
  },
  "language_info": {
   "codemirror_mode": {
    "name": "ipython",
    "version": 3
   },
   "file_extension": ".py",
   "mimetype": "text/x-python",
   "name": "python",
   "nbconvert_exporter": "python",
   "pygments_lexer": "ipython3",
   "version": "3.7.9"
  }
 },
 "nbformat": 4,
 "nbformat_minor": 5
}
