{
 "cells": [
  {
   "cell_type": "markdown",
   "id": "nonprofit-hanging",
   "metadata": {},
   "source": [
    "# Create Connection To Postgres"
   ]
  },
  {
   "cell_type": "code",
   "execution_count": 1,
   "id": "unique-directory",
   "metadata": {},
   "outputs": [],
   "source": [
    "import pandas\n",
    "from connect_sql_db import build_engine"
   ]
  },
  {
   "cell_type": "code",
   "execution_count": 2,
   "id": "periodic-excess",
   "metadata": {},
   "outputs": [],
   "source": [
    "engine = build_engine(database_name=\"database1\",host=\"35.225.193.21\")"
   ]
  },
  {
   "cell_type": "markdown",
   "id": "driven-columbia",
   "metadata": {},
   "source": [
    "# Read in Yelp Data"
   ]
  },
  {
   "cell_type": "code",
   "execution_count": 3,
   "id": "mental-modification",
   "metadata": {},
   "outputs": [],
   "source": [
    "buis_df = pandas.read_json(\"../data/yelp_dataset/yelp_academic_dataset_business.json\", lines = True)"
   ]
  },
  {
   "cell_type": "code",
   "execution_count": 4,
   "id": "former-consultation",
   "metadata": {},
   "outputs": [],
   "source": [
    "checkin_df = pandas.read_json(\"../data/yelp_dataset/yelp_academic_dataset_checkin.json\", lines = True)"
   ]
  },
  {
   "cell_type": "code",
   "execution_count": 5,
   "id": "initial-junior",
   "metadata": {},
   "outputs": [],
   "source": [
    "review_df = pandas.read_json(\"../data/yelp_dataset/yelp_academic_dataset_review.json\", lines = True)"
   ]
  },
  {
   "cell_type": "code",
   "execution_count": 6,
   "id": "accepted-entrance",
   "metadata": {},
   "outputs": [],
   "source": [
    "user_df = pandas.read_json(\"../data/yelp_dataset/yelp_academic_dataset_user.json\", lines = True)"
   ]
  },
  {
   "cell_type": "code",
   "execution_count": 7,
   "id": "egyptian-little",
   "metadata": {},
   "outputs": [],
   "source": [
    "tip_df = pandas.read_json(\"../data/yelp_dataset/yelp_academic_dataset_tip.json\", lines = True) "
   ]
  },
  {
   "cell_type": "markdown",
   "id": "comparative-control",
   "metadata": {},
   "source": [
    "# Python SQL Functions"
   ]
  },
  {
   "cell_type": "code",
   "execution_count": 10,
   "id": "downtown-estimate",
   "metadata": {},
   "outputs": [],
   "source": [
    "#return yelp dataframes dictionary from sql\n",
    "def read_in_tables(table_dict):\n",
    "    return_me = {}\n",
    "    for name,dataframe in table_dict.items():\n",
    "        return_me[name] = pandas.read_sql(f'select * from \"{dataframe}\"',con=engine)\n",
    "        \n",
    "    return return_me\n",
    "\n",
    "#send dataframe dictionary to sql\n",
    "def send_in_dataframes(tables_dict):\n",
    "    for name,dataframe in tables_dict.items():\n",
    "        dataframe.to_sql(f\"{name}\", con = engine, index = False)\n",
    "        print(f\"{name} df sent...\")\n",
    "    return \"dataframe data sent\"\n",
    "\n",
    "#drop dataframe dictionary from sql\n",
    "def drop_dataframes(tables_dict):\n",
    "    with engine.connect() as connection:\n",
    "        for name in tables_dict.keys():\n",
    "            connection.execute(f'DROP TABLE \"{name}\"')\n",
    "            print(f\"{i} dropped...\")\n",
    "    return \"tables dropped\""
   ]
  },
  {
   "cell_type": "markdown",
   "id": "insured-providence",
   "metadata": {},
   "source": [
    "# ETL PROCESS"
   ]
  },
  {
   "cell_type": "code",
   "execution_count": 25,
   "id": "little-divorce",
   "metadata": {},
   "outputs": [],
   "source": [
    "#transform dictionaries into string\n",
    "for name,dataframe in yelp_dfs.items():\n",
    "    for column in dataframe.dtypes[dataframe.dtypes == \"object\"].index.tolist():\n",
    "        dataframe[column] = dataframe[column].astype(str)\n",
    "    "
   ]
  },
  {
   "cell_type": "code",
   "execution_count": 26,
   "id": "auburn-version",
   "metadata": {},
   "outputs": [],
   "source": [
    "#create dictionary of cleaned dataframes\n",
    "yelp_dfs = {\n",
    "    \"business_table\": buis_df,\n",
    "    \"checkin_table\": checkin_df,\n",
    "    \"review_table\": review_df,\n",
    "    \"user_table\": user_df,\n",
    "    \"tip_table\": tip_df\n",
    "}"
   ]
  },
  {
   "cell_type": "code",
   "execution_count": null,
   "id": "approximate-briefs",
   "metadata": {},
   "outputs": [],
   "source": [
    "send_in_dataframes(yelp_dfs)"
   ]
  },
  {
   "cell_type": "code",
   "execution_count": null,
   "id": "medieval-prescription",
   "metadata": {},
   "outputs": [],
   "source": []
  }
 ],
 "metadata": {
  "kernelspec": {
   "display_name": "minicondavenv_bootcamp",
   "language": "python",
   "name": "minicondavenv_bootcamp"
  },
  "language_info": {
   "codemirror_mode": {
    "name": "ipython",
    "version": 3
   },
   "file_extension": ".py",
   "mimetype": "text/x-python",
   "name": "python",
   "nbconvert_exporter": "python",
   "pygments_lexer": "ipython3",
   "version": "3.7.9"
  }
 },
 "nbformat": 4,
 "nbformat_minor": 5
}
