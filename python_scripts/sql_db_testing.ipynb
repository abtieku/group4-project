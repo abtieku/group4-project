{
 "cells": [
  {
   "cell_type": "code",
   "execution_count": 1,
   "id": "mobile-plain",
   "metadata": {},
   "outputs": [],
   "source": [
    "#import dependencies\n",
    "import pandas\n",
    "from connect_sql_db import build_engine"
   ]
  },
  {
   "cell_type": "code",
   "execution_count": 2,
   "id": "regulation-laundry",
   "metadata": {},
   "outputs": [],
   "source": [
    "#create engine for db\n",
    "engine = build_engine()"
   ]
  },
  {
   "cell_type": "markdown",
   "id": "dimensional-portsmouth",
   "metadata": {},
   "source": [
    "# Collect Data"
   ]
  },
  {
   "cell_type": "code",
   "execution_count": 3,
   "id": "veterinary-crawford",
   "metadata": {},
   "outputs": [],
   "source": [
    "#create a df for each movie csv\n",
    "movies_df = pandas.read_csv(\"../data/movies/IMDb movies.csv\",low_memory=False)\n",
    "names_df = pandas.read_csv(\"../data/movies/IMDb names.csv\",low_memory=False)\n",
    "ratings_df = pandas.read_csv(\"../data/movies/IMDb ratings.csv\",low_memory=False)\n",
    "title_principlas_df = pandas.read_csv(\"../data/movies/IMDb title_principals.csv\",low_memory=False)\n",
    "\n",
    "#create a df for each restaurant csv\n",
    "future_df = pandas.read_csv(\"../data/restaurant_data/Future50.csv\",low_memory=False)\n",
    "independence_df = pandas.read_csv(\"../data/restaurant_data/Independence100.csv\",low_memory=False)\n",
    "top250_df = pandas.read_csv(\"../data/restaurant_data/Top250.csv\",low_memory=False)\n",
    "\n",
    "#movies data dictionary\n",
    "movies_tables = {\n",
    "    \"movies\":movies_df,\n",
    "    \"names\":names_df,\n",
    "    \"ratings\":ratings_df,\n",
    "    \"title_principals\": title_principlas_df\n",
    "}\n",
    "\n",
    "#restaurant data dictionary\n",
    "rest_tables = {\n",
    "    \"Future_50\":future_df,\n",
    "    \"Independence_100\":independence_df,\n",
    "    \"Top250\":top250_df\n",
    "}"
   ]
  },
  {
   "cell_type": "markdown",
   "id": "synthetic-petersburg",
   "metadata": {},
   "source": [
    "# Functions for Interacting with Postgre"
   ]
  },
  {
   "cell_type": "code",
   "execution_count": 4,
   "id": "surface-reconstruction",
   "metadata": {},
   "outputs": [],
   "source": [
    "#return movies dataframe dictionary from sql\n",
    "def read_in_movies():\n",
    "    return_me = {}\n",
    "    for i,v in movies_tables.items():\n",
    "        return_me[i] = pandas.read_sql(f'select * from \"{i}\"',con=engine)\n",
    "        \n",
    "    return return_me\n",
    "\n",
    "#return restaurant dataframe dictionary from sql\n",
    "def read_in_rest():\n",
    "    return_me = {}\n",
    "    for i,v in rest_tables.items():\n",
    "        return_me[i] = pandas.read_sql(f'select * from \"{i}\"',con=engine)\n",
    "        \n",
    "    return return_me\n",
    "\n",
    "\n",
    "#send dataframe dictionary to sql\n",
    "def send_in_dataframes(tables_dict):\n",
    "    for i,v in tables_dict.items():\n",
    "        v.to_sql(f\"{i}\", con = engine, index = False)\n",
    "        print(f\"{i} movies sent...\")\n",
    "    return \"dataframe data sent\"\n",
    "\n",
    "#drop dataframe dictionary from sql\n",
    "def drop_dataframes(tables_dict):\n",
    "    with engine.connect() as connection:\n",
    "        for i in tables_dict.keys():\n",
    "            connection.execute(f'DROP TABLE \"{i}\"')\n",
    "            print(f\"{i} dropped...\")\n",
    "    return \"tables dropped\""
   ]
  },
  {
   "cell_type": "markdown",
   "id": "cellular-major",
   "metadata": {},
   "source": [
    "# ETL Process"
   ]
  },
  {
   "cell_type": "code",
   "execution_count": 5,
   "id": "dried-perception",
   "metadata": {},
   "outputs": [
    {
     "name": "stdout",
     "output_type": "stream",
     "text": [
      "movies movies sent...\n",
      "names movies sent...\n",
      "ratings movies sent...\n",
      "title_principals movies sent...\n"
     ]
    },
    {
     "data": {
      "text/plain": [
       "'dataframe data sent'"
      ]
     },
     "execution_count": 5,
     "metadata": {},
     "output_type": "execute_result"
    }
   ],
   "source": [
    "#sending movies dfs to sql\n",
    "send_in_dataframes(movies_tables)"
   ]
  },
  {
   "cell_type": "code",
   "execution_count": 6,
   "id": "editorial-ratio",
   "metadata": {},
   "outputs": [
    {
     "name": "stdout",
     "output_type": "stream",
     "text": [
      "Future_50 movies sent...\n",
      "Independence_100 movies sent...\n",
      "Top250 movies sent...\n"
     ]
    },
    {
     "data": {
      "text/plain": [
       "'dataframe data sent'"
      ]
     },
     "execution_count": 6,
     "metadata": {},
     "output_type": "execute_result"
    }
   ],
   "source": [
    "#sending restaurnt dfs to sql\n",
    "send_in_dataframes(rest_tables)"
   ]
  },
  {
   "cell_type": "markdown",
   "id": "coupled-creek",
   "metadata": {},
   "source": [
    "## Movies Data"
   ]
  },
  {
   "cell_type": "code",
   "execution_count": 7,
   "id": "otherwise-wrong",
   "metadata": {},
   "outputs": [
    {
     "name": "stdout",
     "output_type": "stream",
     "text": [
      "movies: \n",
      "\n",
      " imdb_title_id             object\n",
      "title                     object\n",
      "original_title            object\n",
      "year                      object\n",
      "date_published            object\n",
      "genre                     object\n",
      "duration                   int64\n",
      "country                   object\n",
      "language                  object\n",
      "director                  object\n",
      "writer                    object\n",
      "production_company        object\n",
      "actors                    object\n",
      "description               object\n",
      "avg_vote                 float64\n",
      "votes                      int64\n",
      "budget                    object\n",
      "usa_gross_income          object\n",
      "worlwide_gross_income     object\n",
      "metascore                float64\n",
      "reviews_from_users       float64\n",
      "reviews_from_critics     float64\n",
      "dtype: object\n",
      "names: \n",
      "\n",
      " imdb_name_id              object\n",
      "name                      object\n",
      "birth_name                object\n",
      "height                   float64\n",
      "bio                       object\n",
      "birth_details             object\n",
      "date_of_birth             object\n",
      "place_of_birth            object\n",
      "death_details             object\n",
      "date_of_death             object\n",
      "place_of_death            object\n",
      "reason_of_death           object\n",
      "spouses_string            object\n",
      "spouses                    int64\n",
      "divorces                   int64\n",
      "spouses_with_children      int64\n",
      "children                   int64\n",
      "dtype: object\n",
      "ratings: \n",
      "\n",
      " imdb_title_id                 object\n",
      "weighted_average_vote        float64\n",
      "total_votes                    int64\n",
      "mean_vote                    float64\n",
      "median_vote                  float64\n",
      "votes_10                       int64\n",
      "votes_9                        int64\n",
      "votes_8                        int64\n",
      "votes_7                        int64\n",
      "votes_6                        int64\n",
      "votes_5                        int64\n",
      "votes_4                        int64\n",
      "votes_3                        int64\n",
      "votes_2                        int64\n",
      "votes_1                        int64\n",
      "allgenders_0age_avg_vote     float64\n",
      "allgenders_0age_votes        float64\n",
      "allgenders_18age_avg_vote    float64\n",
      "allgenders_18age_votes       float64\n",
      "allgenders_30age_avg_vote    float64\n",
      "allgenders_30age_votes       float64\n",
      "allgenders_45age_avg_vote    float64\n",
      "allgenders_45age_votes       float64\n",
      "males_allages_avg_vote       float64\n",
      "males_allages_votes          float64\n",
      "males_0age_avg_vote          float64\n",
      "males_0age_votes             float64\n",
      "males_18age_avg_vote         float64\n",
      "males_18age_votes            float64\n",
      "males_30age_avg_vote         float64\n",
      "males_30age_votes            float64\n",
      "males_45age_avg_vote         float64\n",
      "males_45age_votes            float64\n",
      "females_allages_avg_vote     float64\n",
      "females_allages_votes        float64\n",
      "females_0age_avg_vote        float64\n",
      "females_0age_votes           float64\n",
      "females_18age_avg_vote       float64\n",
      "females_18age_votes          float64\n",
      "females_30age_avg_vote       float64\n",
      "females_30age_votes          float64\n",
      "females_45age_avg_vote       float64\n",
      "females_45age_votes          float64\n",
      "top1000_voters_rating        float64\n",
      "top1000_voters_votes         float64\n",
      "us_voters_rating             float64\n",
      "us_voters_votes              float64\n",
      "non_us_voters_rating         float64\n",
      "non_us_voters_votes          float64\n",
      "dtype: object\n",
      "title_principals: \n",
      "\n",
      " imdb_title_id    object\n",
      "ordering          int64\n",
      "imdb_name_id     object\n",
      "category         object\n",
      "job              object\n",
      "characters       object\n",
      "dtype: object\n"
     ]
    }
   ],
   "source": [
    "#read in movies data from sql\n",
    "dictionary_of_movies_dfs = read_in_movies()\n",
    "\n",
    "for table_name,dataframe in dictionary_of_movies_dfs.items():\n",
    "    print(table_name + \":\",\"\\n\\n\",dataframe.dtypes)\n",
    "    "
   ]
  },
  {
   "cell_type": "markdown",
   "id": "removed-comfort",
   "metadata": {},
   "source": [
    "## Restaurant Data"
   ]
  },
  {
   "cell_type": "code",
   "execution_count": 12,
   "id": "increased-starter",
   "metadata": {},
   "outputs": [],
   "source": [
    "#read in restaurant data from sql\n",
    "dictionary_of_restaurant_dfs = read_in_rest()  "
   ]
  }
 ],
 "metadata": {
  "kernelspec": {
   "display_name": "minicondavenv_bootcamp",
   "language": "python",
   "name": "minicondavenv_bootcamp"
  },
  "language_info": {
   "codemirror_mode": {
    "name": "ipython",
    "version": 3
   },
   "file_extension": ".py",
   "mimetype": "text/x-python",
   "name": "python",
   "nbconvert_exporter": "python",
   "pygments_lexer": "ipython3",
   "version": "3.7.9"
  }
 },
 "nbformat": 4,
 "nbformat_minor": 5
}
