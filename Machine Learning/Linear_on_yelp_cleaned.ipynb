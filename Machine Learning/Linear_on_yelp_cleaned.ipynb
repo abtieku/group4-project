{
 "cells": [
  {
   "cell_type": "code",
   "execution_count": 4,
   "metadata": {},
   "outputs": [],
   "source": [
    "import pandas as pd\n",
    "from pathlib import Path\n",
    "import matplotlib.pyplot as plt\n",
    "from sklearn.linear_model import LinearRegression"
   ]
  },
  {
   "cell_type": "code",
   "execution_count": 7,
   "metadata": {},
   "outputs": [
    {
     "data": {
      "text/html": [
       "<div>\n",
       "<style scoped>\n",
       "    .dataframe tbody tr th:only-of-type {\n",
       "        vertical-align: middle;\n",
       "    }\n",
       "\n",
       "    .dataframe tbody tr th {\n",
       "        vertical-align: top;\n",
       "    }\n",
       "\n",
       "    .dataframe thead th {\n",
       "        text-align: right;\n",
       "    }\n",
       "</style>\n",
       "<table border=\"1\" class=\"dataframe\">\n",
       "  <thead>\n",
       "    <tr style=\"text-align: right;\">\n",
       "      <th></th>\n",
       "      <th>address</th>\n",
       "      <th>city</th>\n",
       "      <th>state</th>\n",
       "      <th>postal_code</th>\n",
       "      <th>latitude</th>\n",
       "      <th>longitude</th>\n",
       "      <th>stars</th>\n",
       "      <th>review_count</th>\n",
       "      <th>is_open</th>\n",
       "      <th>business_id</th>\n",
       "      <th>...</th>\n",
       "      <th>restaurantsattire_dressy</th>\n",
       "      <th>restaurantsattire_formal</th>\n",
       "      <th>restaurantsattire_no_dress_code</th>\n",
       "      <th>restaurantspricerange2_$10_and_under</th>\n",
       "      <th>restaurantspricerange2_$11_to_30</th>\n",
       "      <th>restaurantspricerange2_$31_to_60</th>\n",
       "      <th>restaurantspricerange2_$61_and_over</th>\n",
       "      <th>wifi_false</th>\n",
       "      <th>wifi_free</th>\n",
       "      <th>wifi_paid</th>\n",
       "    </tr>\n",
       "  </thead>\n",
       "  <tbody>\n",
       "    <tr>\n",
       "      <th>0</th>\n",
       "      <td>1017 E Apache Blvd</td>\n",
       "      <td>Tempe</td>\n",
       "      <td>AZ</td>\n",
       "      <td>85281</td>\n",
       "      <td>33.414507</td>\n",
       "      <td>-111.923721</td>\n",
       "      <td>2.0</td>\n",
       "      <td>117</td>\n",
       "      <td>1</td>\n",
       "      <td>W7hCuNdn2gzehta6eSHzgQ</td>\n",
       "      <td>...</td>\n",
       "      <td>0</td>\n",
       "      <td>0</td>\n",
       "      <td>0</td>\n",
       "      <td>1</td>\n",
       "      <td>0</td>\n",
       "      <td>0</td>\n",
       "      <td>0</td>\n",
       "      <td>1</td>\n",
       "      <td>0</td>\n",
       "      <td>0</td>\n",
       "    </tr>\n",
       "    <tr>\n",
       "      <th>1</th>\n",
       "      <td>1046 Regent Pkwy, Ste 107</td>\n",
       "      <td>Fort Mill</td>\n",
       "      <td>SC</td>\n",
       "      <td>29715</td>\n",
       "      <td>35.075476</td>\n",
       "      <td>-80.933904</td>\n",
       "      <td>4.0</td>\n",
       "      <td>267</td>\n",
       "      <td>1</td>\n",
       "      <td>PlP0c_u3g-3LiWHpb2XnOQ</td>\n",
       "      <td>...</td>\n",
       "      <td>0</td>\n",
       "      <td>0</td>\n",
       "      <td>0</td>\n",
       "      <td>0</td>\n",
       "      <td>1</td>\n",
       "      <td>0</td>\n",
       "      <td>0</td>\n",
       "      <td>0</td>\n",
       "      <td>1</td>\n",
       "      <td>0</td>\n",
       "    </tr>\n",
       "    <tr>\n",
       "      <th>2</th>\n",
       "      <td>3759 E Desert Inn Rd</td>\n",
       "      <td>Las Vegas</td>\n",
       "      <td>NV</td>\n",
       "      <td>89121</td>\n",
       "      <td>36.129178</td>\n",
       "      <td>-115.092483</td>\n",
       "      <td>5.0</td>\n",
       "      <td>222</td>\n",
       "      <td>1</td>\n",
       "      <td>AN0bWhisCf6LN9eHZ7DQ3w</td>\n",
       "      <td>...</td>\n",
       "      <td>0</td>\n",
       "      <td>0</td>\n",
       "      <td>0</td>\n",
       "      <td>0</td>\n",
       "      <td>1</td>\n",
       "      <td>0</td>\n",
       "      <td>0</td>\n",
       "      <td>0</td>\n",
       "      <td>1</td>\n",
       "      <td>0</td>\n",
       "    </tr>\n",
       "    <tr>\n",
       "      <th>3</th>\n",
       "      <td>5115 Spring Mountain Rd, Ste 203</td>\n",
       "      <td>Las Vegas</td>\n",
       "      <td>NV</td>\n",
       "      <td>89146</td>\n",
       "      <td>36.125569</td>\n",
       "      <td>-115.210911</td>\n",
       "      <td>4.5</td>\n",
       "      <td>1142</td>\n",
       "      <td>1</td>\n",
       "      <td>AtD6B83S4Mbmq0t7iDnUVA</td>\n",
       "      <td>...</td>\n",
       "      <td>0</td>\n",
       "      <td>0</td>\n",
       "      <td>0</td>\n",
       "      <td>0</td>\n",
       "      <td>1</td>\n",
       "      <td>0</td>\n",
       "      <td>0</td>\n",
       "      <td>0</td>\n",
       "      <td>1</td>\n",
       "      <td>0</td>\n",
       "    </tr>\n",
       "    <tr>\n",
       "      <th>4</th>\n",
       "      <td>9311 Jw Clay Blvd</td>\n",
       "      <td>Charlotte</td>\n",
       "      <td>NC</td>\n",
       "      <td>28262</td>\n",
       "      <td>35.311397</td>\n",
       "      <td>-80.746334</td>\n",
       "      <td>3.5</td>\n",
       "      <td>124</td>\n",
       "      <td>0</td>\n",
       "      <td>ebwM2pckHieHvK6h1scuBw</td>\n",
       "      <td>...</td>\n",
       "      <td>0</td>\n",
       "      <td>0</td>\n",
       "      <td>0</td>\n",
       "      <td>0</td>\n",
       "      <td>1</td>\n",
       "      <td>0</td>\n",
       "      <td>0</td>\n",
       "      <td>0</td>\n",
       "      <td>1</td>\n",
       "      <td>0</td>\n",
       "    </tr>\n",
       "  </tbody>\n",
       "</table>\n",
       "<p>5 rows × 56 columns</p>\n",
       "</div>"
      ],
      "text/plain": [
       "                            address       city state postal_code   latitude  \\\n",
       "0                1017 E Apache Blvd      Tempe    AZ       85281  33.414507   \n",
       "1         1046 Regent Pkwy, Ste 107  Fort Mill    SC       29715  35.075476   \n",
       "2              3759 E Desert Inn Rd  Las Vegas    NV       89121  36.129178   \n",
       "3  5115 Spring Mountain Rd, Ste 203  Las Vegas    NV       89146  36.125569   \n",
       "4                 9311 Jw Clay Blvd  Charlotte    NC       28262  35.311397   \n",
       "\n",
       "    longitude  stars  review_count  is_open             business_id  ...  \\\n",
       "0 -111.923721    2.0           117        1  W7hCuNdn2gzehta6eSHzgQ  ...   \n",
       "1  -80.933904    4.0           267        1  PlP0c_u3g-3LiWHpb2XnOQ  ...   \n",
       "2 -115.092483    5.0           222        1  AN0bWhisCf6LN9eHZ7DQ3w  ...   \n",
       "3 -115.210911    4.5          1142        1  AtD6B83S4Mbmq0t7iDnUVA  ...   \n",
       "4  -80.746334    3.5           124        0  ebwM2pckHieHvK6h1scuBw  ...   \n",
       "\n",
       "  restaurantsattire_dressy  restaurantsattire_formal  \\\n",
       "0                        0                         0   \n",
       "1                        0                         0   \n",
       "2                        0                         0   \n",
       "3                        0                         0   \n",
       "4                        0                         0   \n",
       "\n",
       "   restaurantsattire_no_dress_code  restaurantspricerange2_$10_and_under  \\\n",
       "0                                0                                     1   \n",
       "1                                0                                     0   \n",
       "2                                0                                     0   \n",
       "3                                0                                     0   \n",
       "4                                0                                     0   \n",
       "\n",
       "   restaurantspricerange2_$11_to_30  restaurantspricerange2_$31_to_60  \\\n",
       "0                                 0                                 0   \n",
       "1                                 1                                 0   \n",
       "2                                 1                                 0   \n",
       "3                                 1                                 0   \n",
       "4                                 1                                 0   \n",
       "\n",
       "   restaurantspricerange2_$61_and_over  wifi_false  wifi_free  wifi_paid  \n",
       "0                                    0           1          0          0  \n",
       "1                                    0           0          1          0  \n",
       "2                                    0           0          1          0  \n",
       "3                                    0           0          1          0  \n",
       "4                                    0           0          1          0  \n",
       "\n",
       "[5 rows x 56 columns]"
      ]
     },
     "execution_count": 7,
     "metadata": {},
     "output_type": "execute_result"
    }
   ],
   "source": [
    "df = pd.read_csv(Path('./yelp_cleaned.csv'))\n",
    "df.head()"
   ]
  },
  {
   "cell_type": "code",
   "execution_count": 8,
   "metadata": {},
   "outputs": [
    {
     "data": {
      "image/png": "[encoded data removed]",
      "text/plain": [
       "<Figure size 432x288 with 1 Axes>"
      ]
     },
     "metadata": {
      "needs_background": "light"
     },
     "output_type": "display_data"
    }
   ],
   "source": [
    "plt.scatter(df.stars, df.review_count)\n",
    "plt.xlabel('Stars')\n",
    "plt.ylabel('Review Count')\n",
    "plt.show()"
   ]
  },
  {
   "cell_type": "code",
   "execution_count": 9,
   "metadata": {},
   "outputs": [],
   "source": [
    "# array of arrays\n",
    "X = df.stars.values.reshape(-1, 1)"
   ]
  },
  {
   "cell_type": "code",
   "execution_count": 10,
   "metadata": {},
   "outputs": [
    {
     "data": {
      "text/plain": [
       "array([[2. ],\n",
       "       [4. ],\n",
       "       [5. ],\n",
       "       [4.5],\n",
       "       [3.5]])"
      ]
     },
     "execution_count": 10,
     "metadata": {},
     "output_type": "execute_result"
    }
   ],
   "source": [
    "X[:5]"
   ]
  },
  {
   "cell_type": "code",
   "execution_count": 11,
   "metadata": {},
   "outputs": [
    {
     "data": {
      "text/plain": [
       "(5500, 1)"
      ]
     },
     "execution_count": 11,
     "metadata": {},
     "output_type": "execute_result"
    }
   ],
   "source": [
    "X.shape"
   ]
  },
  {
   "cell_type": "code",
   "execution_count": 12,
   "metadata": {},
   "outputs": [],
   "source": [
    "y = df.review_count"
   ]
  },
  {
   "cell_type": "code",
   "execution_count": 13,
   "metadata": {},
   "outputs": [],
   "source": [
    "# c = f(a,b)\n",
    "# instantiates it\n",
    "model = LinearRegression()"
   ]
  },
  {
   "cell_type": "code",
   "execution_count": 14,
   "metadata": {},
   "outputs": [
    {
     "data": {
      "text/plain": [
       "LinearRegression()"
      ]
     },
     "execution_count": 14,
     "metadata": {},
     "output_type": "execute_result"
    }
   ],
   "source": [
    "# Fit the model to the data\n",
    "model.fit(X, y)"
   ]
  },
  {
   "cell_type": "code",
   "execution_count": 15,
   "metadata": {},
   "outputs": [
    {
     "name": "stdout",
     "output_type": "stream",
     "text": [
      "(5500,)\n"
     ]
    }
   ],
   "source": [
    "y_pred = model.predict(X)\n",
    "print(y_pred.shape)"
   ]
  },
  {
   "cell_type": "code",
   "execution_count": 16,
   "metadata": {},
   "outputs": [
    {
     "data": {
      "image/png": "[encoded data removed]",
      "text/plain": [
       "<Figure size 432x288 with 1 Axes>"
      ]
     },
     "metadata": {
      "needs_background": "light"
     },
     "output_type": "display_data"
    }
   ],
   "source": [
    "plt.scatter(X, y)\n",
    "plt.plot(X, y_pred, color='red')\n",
    "plt.show()"
   ]
  },
  {
   "cell_type": "code",
   "execution_count": 17,
   "metadata": {},
   "outputs": [
    {
     "name": "stdout",
     "output_type": "stream",
     "text": [
      "[78.1736061]\n",
      "-89.78720841391868\n"
     ]
    }
   ],
   "source": [
    "print(model.coef_)\n",
    "print(model.intercept_)"
   ]
  },
  {
   "cell_type": "code",
   "execution_count": null,
   "metadata": {},
   "outputs": [],
   "source": []
  }
 ],
 "metadata": {
  "kernelspec": {
   "display_name": "mlenv",
   "language": "python",
   "name": "mlenv"
  },
  "language_info": {
   "codemirror_mode": {
    "name": "ipython",
    "version": 3
   },
   "file_extension": ".py",
   "mimetype": "text/x-python",
   "name": "python",
   "nbconvert_exporter": "python",
   "pygments_lexer": "ipython3",
   "version": "3.7.9"
  }
 },
 "nbformat": 4,
 "nbformat_minor": 4
}
