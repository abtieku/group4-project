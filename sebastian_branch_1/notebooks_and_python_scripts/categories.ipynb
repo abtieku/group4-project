{
 "cells": [
  {
   "cell_type": "code",
   "execution_count": 160,
   "id": "unlike-classics",
   "metadata": {},
   "outputs": [],
   "source": [
    "import pandas"
   ]
  },
  {
   "cell_type": "code",
   "execution_count": 161,
   "id": "crazy-conservative",
   "metadata": {},
   "outputs": [],
   "source": [
    "from connect_sql_db import build_engine"
   ]
  },
  {
   "cell_type": "code",
   "execution_count": 162,
   "id": "passing-being",
   "metadata": {},
   "outputs": [],
   "source": [
    "engine = build_engine(database_name=\"database1\",host=\"35.225.193.21\")"
   ]
  },
  {
   "cell_type": "code",
   "execution_count": 163,
   "id": "adapted-pharmaceutical",
   "metadata": {},
   "outputs": [],
   "source": [
    "raw_df = pandas.read_csv(\"../data/yelp_csvs/business_restaurants.csv\")"
   ]
  },
  {
   "cell_type": "code",
   "execution_count": 164,
   "id": "combined-literature",
   "metadata": {},
   "outputs": [],
   "source": [
    "categories = raw_df.categories.tolist()\n",
    "\n",
    "categories_lst = []\n",
    "for i in categories:\n",
    "    if type(i) != float:\n",
    "        for v in i.split(\",\"):\n",
    "            categories_lst.append(v.strip())"
   ]
  },
  {
   "cell_type": "code",
   "execution_count": 165,
   "id": "bizarre-mixture",
   "metadata": {},
   "outputs": [
    {
     "data": {
      "text/plain": [
       "274306"
      ]
     },
     "execution_count": 165,
     "metadata": {},
     "output_type": "execute_result"
    }
   ],
   "source": [
    "len(categories_lst)"
   ]
  },
  {
   "cell_type": "code",
   "execution_count": 166,
   "id": "changing-currency",
   "metadata": {},
   "outputs": [],
   "source": [
    "cat_keys = set(categories_lst)"
   ]
  },
  {
   "cell_type": "code",
   "execution_count": 167,
   "id": "characteristic-italy",
   "metadata": {},
   "outputs": [],
   "source": [
    "cat_dict = {}\n",
    "for category in cat_keys:\n",
    "    cat_dict[category] = 0"
   ]
  },
  {
   "cell_type": "code",
   "execution_count": 168,
   "id": "clinical-proxy",
   "metadata": {},
   "outputs": [],
   "source": [
    "for category in categories_lst:\n",
    "    if category in cat_dict:\n",
    "        cat_dict[category] += 1"
   ]
  },
  {
   "cell_type": "code",
   "execution_count": 169,
   "id": "documented-reach",
   "metadata": {},
   "outputs": [],
   "source": [
    "data = {}\n",
    "for key,value in cat_dict.items():\n",
    "    data[key] = [value]"
   ]
  },
  {
   "cell_type": "code",
   "execution_count": 170,
   "id": "double-brooklyn",
   "metadata": {},
   "outputs": [],
   "source": [
    "business_categories_count = pandas.DataFrame(data, index = [\"count\"])"
   ]
  },
  {
   "cell_type": "code",
   "execution_count": 171,
   "id": "another-smell",
   "metadata": {},
   "outputs": [],
   "source": [
    "business_categories_count = business_categories_count.T"
   ]
  },
  {
   "cell_type": "code",
   "execution_count": 172,
   "id": "abroad-seeker",
   "metadata": {},
   "outputs": [
    {
     "data": {
      "text/html": [
       "<div>\n",
       "<style scoped>\n",
       "    .dataframe tbody tr th:only-of-type {\n",
       "        vertical-align: middle;\n",
       "    }\n",
       "\n",
       "    .dataframe tbody tr th {\n",
       "        vertical-align: top;\n",
       "    }\n",
       "\n",
       "    .dataframe thead th {\n",
       "        text-align: right;\n",
       "    }\n",
       "</style>\n",
       "<table border=\"1\" class=\"dataframe\">\n",
       "  <thead>\n",
       "    <tr style=\"text-align: right;\">\n",
       "      <th></th>\n",
       "      <th>count</th>\n",
       "    </tr>\n",
       "  </thead>\n",
       "  <tbody>\n",
       "    <tr>\n",
       "      <th>Restaurants</th>\n",
       "      <td>63944</td>\n",
       "    </tr>\n",
       "    <tr>\n",
       "      <th>Food</th>\n",
       "      <td>16480</td>\n",
       "    </tr>\n",
       "    <tr>\n",
       "      <th>Nightlife</th>\n",
       "      <td>9400</td>\n",
       "    </tr>\n",
       "    <tr>\n",
       "      <th>Bars</th>\n",
       "      <td>9004</td>\n",
       "    </tr>\n",
       "    <tr>\n",
       "      <th>Fast Food</th>\n",
       "      <td>8106</td>\n",
       "    </tr>\n",
       "    <tr>\n",
       "      <th>Sandwiches</th>\n",
       "      <td>8064</td>\n",
       "    </tr>\n",
       "    <tr>\n",
       "      <th>American (Traditional)</th>\n",
       "      <td>7596</td>\n",
       "    </tr>\n",
       "    <tr>\n",
       "      <th>Pizza</th>\n",
       "      <td>7302</td>\n",
       "    </tr>\n",
       "    <tr>\n",
       "      <th>Breakfast &amp; Brunch</th>\n",
       "      <td>6225</td>\n",
       "    </tr>\n",
       "    <tr>\n",
       "      <th>Burgers</th>\n",
       "      <td>6107</td>\n",
       "    </tr>\n",
       "    <tr>\n",
       "      <th>Mexican</th>\n",
       "      <td>5207</td>\n",
       "    </tr>\n",
       "    <tr>\n",
       "      <th>American (New)</th>\n",
       "      <td>5118</td>\n",
       "    </tr>\n",
       "    <tr>\n",
       "      <th>Italian</th>\n",
       "      <td>5012</td>\n",
       "    </tr>\n",
       "    <tr>\n",
       "      <th>Chinese</th>\n",
       "      <td>4746</td>\n",
       "    </tr>\n",
       "    <tr>\n",
       "      <th>Coffee &amp; Tea</th>\n",
       "      <td>4318</td>\n",
       "    </tr>\n",
       "    <tr>\n",
       "      <th>Cafes</th>\n",
       "      <td>3601</td>\n",
       "    </tr>\n",
       "    <tr>\n",
       "      <th>Chicken Wings</th>\n",
       "      <td>3012</td>\n",
       "    </tr>\n",
       "    <tr>\n",
       "      <th>Event Planning &amp; Services</th>\n",
       "      <td>3004</td>\n",
       "    </tr>\n",
       "    <tr>\n",
       "      <th>Salad</th>\n",
       "      <td>2988</td>\n",
       "    </tr>\n",
       "    <tr>\n",
       "      <th>Japanese</th>\n",
       "      <td>2984</td>\n",
       "    </tr>\n",
       "    <tr>\n",
       "      <th>Seafood</th>\n",
       "      <td>2753</td>\n",
       "    </tr>\n",
       "    <tr>\n",
       "      <th>Sushi Bars</th>\n",
       "      <td>2448</td>\n",
       "    </tr>\n",
       "    <tr>\n",
       "      <th>Specialty Food</th>\n",
       "      <td>2257</td>\n",
       "    </tr>\n",
       "    <tr>\n",
       "      <th>Asian Fusion</th>\n",
       "      <td>2180</td>\n",
       "    </tr>\n",
       "    <tr>\n",
       "      <th>Delis</th>\n",
       "      <td>2079</td>\n",
       "    </tr>\n",
       "    <tr>\n",
       "      <th>Caterers</th>\n",
       "      <td>2064</td>\n",
       "    </tr>\n",
       "    <tr>\n",
       "      <th>Bakeries</th>\n",
       "      <td>2018</td>\n",
       "    </tr>\n",
       "    <tr>\n",
       "      <th>Mediterranean</th>\n",
       "      <td>2012</td>\n",
       "    </tr>\n",
       "    <tr>\n",
       "      <th>Desserts</th>\n",
       "      <td>2000</td>\n",
       "    </tr>\n",
       "    <tr>\n",
       "      <th>Canadian (New)</th>\n",
       "      <td>1992</td>\n",
       "    </tr>\n",
       "  </tbody>\n",
       "</table>\n",
       "</div>"
      ],
      "text/plain": [
       "                           count\n",
       "Restaurants                63944\n",
       "Food                       16480\n",
       "Nightlife                   9400\n",
       "Bars                        9004\n",
       "Fast Food                   8106\n",
       "Sandwiches                  8064\n",
       "American (Traditional)      7596\n",
       "Pizza                       7302\n",
       "Breakfast & Brunch          6225\n",
       "Burgers                     6107\n",
       "Mexican                     5207\n",
       "American (New)              5118\n",
       "Italian                     5012\n",
       "Chinese                     4746\n",
       "Coffee & Tea                4318\n",
       "Cafes                       3601\n",
       "Chicken Wings               3012\n",
       "Event Planning & Services   3004\n",
       "Salad                       2988\n",
       "Japanese                    2984\n",
       "Seafood                     2753\n",
       "Sushi Bars                  2448\n",
       "Specialty Food              2257\n",
       "Asian Fusion                2180\n",
       "Delis                       2079\n",
       "Caterers                    2064\n",
       "Bakeries                    2018\n",
       "Mediterranean               2012\n",
       "Desserts                    2000\n",
       "Canadian (New)              1992"
      ]
     },
     "execution_count": 172,
     "metadata": {},
     "output_type": "execute_result"
    }
   ],
   "source": [
    "business_categories_count.sort_values(\"count\" , ascending = False).head(30)"
   ]
  },
  {
   "cell_type": "code",
   "execution_count": 173,
   "id": "white-bible",
   "metadata": {},
   "outputs": [],
   "source": [
    "attributes = raw_df.attributes.tolist()"
   ]
  },
  {
   "cell_type": "code",
   "execution_count": 174,
   "id": "attached-tennessee",
   "metadata": {},
   "outputs": [],
   "source": [
    "\n",
    "attributes_lst = [] \n",
    "for i in attributes:\n",
    "    if type(i) != float:\n",
    "        for attribute in i.split():\n",
    "            attributes_lst.append(attribute)"
   ]
  },
  {
   "cell_type": "code",
   "execution_count": 175,
   "id": "orange-position",
   "metadata": {},
   "outputs": [],
   "source": [
    "replace_lst = [\n",
    "    \"'\",\n",
    "    '\"',\n",
    "    \"False\",\n",
    "    \"True\",\n",
    "    \"/\",\n",
    "    \"\\\\\",\n",
    "    \":\",\n",
    "    \"{\",\n",
    "    \"}\",\n",
    "    \",\"\n",
    "]\n",
    "\n",
    "lst = []\n",
    "for i in attributes_lst:\n",
    "    for v in replace_lst:\n",
    "        if v in i:\n",
    "            i = i.replace(v,\"\")\n",
    "    lst.append(i)            "
   ]
  },
  {
   "cell_type": "code",
   "execution_count": 176,
   "id": "random-today",
   "metadata": {},
   "outputs": [],
   "source": [
    "attributes_keys = set(lst)"
   ]
  },
  {
   "cell_type": "code",
   "execution_count": 178,
   "id": "legislative-walter",
   "metadata": {},
   "outputs": [],
   "source": [
    "unique_attr = [i for i in attributes_keys if i not in [\"1\",\"2\",\"3\",\"4\",\"\",\"none\",\"validated\",\"unone\",\"None\",\"no\",\"uno\",\"upaid\",\"uyes\",'tuesday','wednesday','saturday',\"monday\",\"thursday\",\"friday\",\"sunday\"]]"
   ]
  },
  {
   "cell_type": "code",
   "execution_count": 179,
   "id": "aboriginal-administrator",
   "metadata": {},
   "outputs": [
    {
     "data": {
      "text/plain": [
       "['halal',\n",
       " 'average',\n",
       " 'loud',\n",
       " 'dairy-free',\n",
       " 'lot',\n",
       " 'garage',\n",
       " 'asian',\n",
       " 'dj',\n",
       " 'karaoke',\n",
       " 'quiet',\n",
       " 'RestaurantsTakeOut',\n",
       " 'BYOB',\n",
       " 'RestaurantsCounterService',\n",
       " 'uloud',\n",
       " 'WiFi',\n",
       " 'AgesAllowed',\n",
       " 'no_music',\n",
       " 'CoatCheck',\n",
       " 'dinner',\n",
       " 'BusinessAcceptsBitcoin',\n",
       " 'vegetarian',\n",
       " 'uaverage',\n",
       " 'RestaurantsPriceRange2',\n",
       " 'uformal',\n",
       " 'WheelchairAccessible',\n",
       " 'formal',\n",
       " 'Alcohol',\n",
       " 'BestNights',\n",
       " 'u21plus',\n",
       " 'vegan',\n",
       " 'brunch',\n",
       " 'Smoking',\n",
       " 'u18plus',\n",
       " 'RestaurantsTableService',\n",
       " 'video',\n",
       " 'ucasual',\n",
       " 'street',\n",
       " 'RestaurantsAttire',\n",
       " 'paid',\n",
       " 'ufree',\n",
       " 'BYOBCorkage',\n",
       " 'BusinessAcceptsCreditCards',\n",
       " 'BusinessParking',\n",
       " 'GoodForMeal',\n",
       " 'hipster',\n",
       " 'very_loud',\n",
       " 'uallages',\n",
       " 'DogsAllowed',\n",
       " 'beer_and_wine',\n",
       " 'Caters',\n",
       " 'romantic',\n",
       " 'kids',\n",
       " 'RestaurantsDelivery',\n",
       " 'u19plus',\n",
       " 'gluten-free',\n",
       " 'straightperms',\n",
       " 'ufull_bar',\n",
       " 'BikeParking',\n",
       " 'free',\n",
       " 'full_bar',\n",
       " 'Music',\n",
       " 'HasTV',\n",
       " 'outdoor',\n",
       " 'HairSpecializesIn',\n",
       " 'uquiet',\n",
       " 'valet',\n",
       " 'latenight',\n",
       " 'live',\n",
       " 'yes_corkage',\n",
       " 'intimate',\n",
       " 'classy',\n",
       " 'RestaurantsGoodForGroups',\n",
       " 'ubeer_and_wine',\n",
       " 'lunch',\n",
       " 'uyes_corkage',\n",
       " 'GoodForDancing',\n",
       " 'NoiseLevel',\n",
       " 'Open24Hours',\n",
       " 'breakfast',\n",
       " 'uoutdoor',\n",
       " 'uyes_free',\n",
       " 'touristy',\n",
       " 'dressy',\n",
       " 'DriveThru',\n",
       " 'RestaurantsReservations',\n",
       " 'extensions',\n",
       " 'soy-free',\n",
       " 'coloring',\n",
       " 'kosher',\n",
       " 'trendy',\n",
       " 'jukebox',\n",
       " 'ByAppointmentOnly',\n",
       " 'GoodForKids',\n",
       " 'Corkage',\n",
       " 'uvery_loud',\n",
       " 'yes_free',\n",
       " 'perms',\n",
       " 'AcceptsInsurance',\n",
       " 'divey',\n",
       " 'africanamerican',\n",
       " 'HappyHour',\n",
       " 'curly',\n",
       " 'upscale',\n",
       " 'dessert',\n",
       " 'DietaryRestrictions',\n",
       " 'background_music',\n",
       " 'OutdoorSeating',\n",
       " 'casual',\n",
       " 'udressy',\n",
       " 'Ambience']"
      ]
     },
     "execution_count": 179,
     "metadata": {},
     "output_type": "execute_result"
    }
   ],
   "source": [
    "unique_attr"
   ]
  },
  {
   "cell_type": "code",
   "execution_count": null,
   "id": "permanent-uruguay",
   "metadata": {},
   "outputs": [],
   "source": []
  }
 ],
 "metadata": {
  "kernelspec": {
   "display_name": "minicondavenv_bootcamp",
   "language": "python",
   "name": "minicondavenv_bootcamp"
  },
  "language_info": {
   "codemirror_mode": {
    "name": "ipython",
    "version": 3
   },
   "file_extension": ".py",
   "mimetype": "text/x-python",
   "name": "python",
   "nbconvert_exporter": "python",
   "pygments_lexer": "ipython3",
   "version": "3.7.9"
  }
 },
 "nbformat": 4,
 "nbformat_minor": 5
}
